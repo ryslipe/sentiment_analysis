{
 "cells": [
  {
   "cell_type": "markdown",
   "id": "b82f798f",
   "metadata": {},
   "source": [
    "## Sentiment Analysis of Movie Reviews Using Naive Bayes 🎬"
   ]
  },
  {
   "cell_type": "markdown",
   "id": "871c8935",
   "metadata": {},
   "source": [
    "For this assignment we would like to know if we can use the Naive Bayes theorem to be an accurate classifier on a data set of movie reviews. This dataset was taken from the Kaggle dataset named \"Bag of Words Meets Bag of Popcorn\". The data consists of 50,000 IMBD movie reviews that do not include any personal information such as the persons' username or adress, or any other identifier that may cause harm. By understanding these are just personal opinions of people that we cannot identify, we deem this data set ethically safe to proceed.\n",
    "\n",
    "Our main goal will be to answer the question, \"Can we accurately predict the sentiment of a movie review using Naive Bayes?\". We will also try to answer a second question of \"Are we able to find words that most commonly belong to each sentiment?\". The second question will be answered using the TfidfTransformer that will set weights to each word based on the importance of that word in the corresponding sentiment. We should expect to find positive words in the positive sentiments."
   ]
  },
  {
   "cell_type": "markdown",
   "id": "ee951fef",
   "metadata": {},
   "source": [
    "#### Notes\n",
    "+ make a few different models and compare them\n",
    "+ stemming/lemmatization\n",
    "+ make a preprocessing functon that keeps only the important digits and removes the rest <br> \n",
    "  -Function to preprocess text <br>def preprocess_text(text): # Keep important numeric patterns (e.g., ratings) <br>text = re.sub(r'\\d+\\s*out\\s*of\\s*\\d+|\\d+\\s*stars?', '', text) # Remove other numeric patterns <br>text = re.sub(r'\\d+', '', text)\n",
    "+ do sentence-level tokens and word-level"
   ]
  },
  {
   "cell_type": "code",
   "execution_count": 2,
   "id": "80ce84fb",
   "metadata": {},
   "outputs": [],
   "source": [
    "import pandas as pd\n",
    "import numpy as np\n",
    "from matplotlib import pyplot as plt"
   ]
  },
  {
   "cell_type": "code",
   "execution_count": 3,
   "id": "79978916",
   "metadata": {},
   "outputs": [],
   "source": [
    "# create data frame\n",
    "df = pd.read_csv(\"../data/bag_of_words.csv\", delimiter = ',')"
   ]
  },
  {
   "cell_type": "code",
   "execution_count": 4,
   "id": "b2c3a2a9",
   "metadata": {},
   "outputs": [
    {
     "data": {
      "text/html": [
       "<div>\n",
       "<style scoped>\n",
       "    .dataframe tbody tr th:only-of-type {\n",
       "        vertical-align: middle;\n",
       "    }\n",
       "\n",
       "    .dataframe tbody tr th {\n",
       "        vertical-align: top;\n",
       "    }\n",
       "\n",
       "    .dataframe thead th {\n",
       "        text-align: right;\n",
       "    }\n",
       "</style>\n",
       "<table border=\"1\" class=\"dataframe\">\n",
       "  <thead>\n",
       "    <tr style=\"text-align: right;\">\n",
       "      <th></th>\n",
       "      <th>id</th>\n",
       "      <th>sentiment</th>\n",
       "      <th>review</th>\n",
       "    </tr>\n",
       "  </thead>\n",
       "  <tbody>\n",
       "    <tr>\n",
       "      <th>0</th>\n",
       "      <td>5814_8</td>\n",
       "      <td>1</td>\n",
       "      <td>With all this stuff going down at the moment w...</td>\n",
       "    </tr>\n",
       "    <tr>\n",
       "      <th>1</th>\n",
       "      <td>2381_9</td>\n",
       "      <td>1</td>\n",
       "      <td>\\The Classic War of the Worlds\\\" by Timothy Hi...</td>\n",
       "    </tr>\n",
       "    <tr>\n",
       "      <th>2</th>\n",
       "      <td>7759_3</td>\n",
       "      <td>0</td>\n",
       "      <td>The film starts with a manager (Nicholas Bell)...</td>\n",
       "    </tr>\n",
       "    <tr>\n",
       "      <th>3</th>\n",
       "      <td>3630_4</td>\n",
       "      <td>0</td>\n",
       "      <td>It must be assumed that those who praised this...</td>\n",
       "    </tr>\n",
       "    <tr>\n",
       "      <th>4</th>\n",
       "      <td>9495_8</td>\n",
       "      <td>1</td>\n",
       "      <td>Superbly trashy and wondrously unpretentious 8...</td>\n",
       "    </tr>\n",
       "  </tbody>\n",
       "</table>\n",
       "</div>"
      ],
      "text/plain": [
       "       id  sentiment                                             review\n",
       "0  5814_8          1  With all this stuff going down at the moment w...\n",
       "1  2381_9          1  \\The Classic War of the Worlds\\\" by Timothy Hi...\n",
       "2  7759_3          0  The film starts with a manager (Nicholas Bell)...\n",
       "3  3630_4          0  It must be assumed that those who praised this...\n",
       "4  9495_8          1  Superbly trashy and wondrously unpretentious 8..."
      ]
     },
     "execution_count": 4,
     "metadata": {},
     "output_type": "execute_result"
    }
   ],
   "source": [
    "# view first 5 rows\n",
    "df.head()"
   ]
  },
  {
   "cell_type": "code",
   "execution_count": 5,
   "id": "0578a6cb",
   "metadata": {},
   "outputs": [
    {
     "data": {
      "text/html": [
       "<div>\n",
       "<style scoped>\n",
       "    .dataframe tbody tr th:only-of-type {\n",
       "        vertical-align: middle;\n",
       "    }\n",
       "\n",
       "    .dataframe tbody tr th {\n",
       "        vertical-align: top;\n",
       "    }\n",
       "\n",
       "    .dataframe thead th {\n",
       "        text-align: right;\n",
       "    }\n",
       "</style>\n",
       "<table border=\"1\" class=\"dataframe\">\n",
       "  <thead>\n",
       "    <tr style=\"text-align: right;\">\n",
       "      <th></th>\n",
       "      <th>id</th>\n",
       "      <th>sentiment</th>\n",
       "      <th>review</th>\n",
       "    </tr>\n",
       "  </thead>\n",
       "  <tbody>\n",
       "    <tr>\n",
       "      <th>24995</th>\n",
       "      <td>3453_3</td>\n",
       "      <td>0</td>\n",
       "      <td>It seems like more consideration has gone into...</td>\n",
       "    </tr>\n",
       "    <tr>\n",
       "      <th>24996</th>\n",
       "      <td>5064_1</td>\n",
       "      <td>0</td>\n",
       "      <td>I don't believe they made this film. Completel...</td>\n",
       "    </tr>\n",
       "    <tr>\n",
       "      <th>24997</th>\n",
       "      <td>10905_3</td>\n",
       "      <td>0</td>\n",
       "      <td>Guy is a loser. Can't get girls, needs to buil...</td>\n",
       "    </tr>\n",
       "    <tr>\n",
       "      <th>24998</th>\n",
       "      <td>10194_3</td>\n",
       "      <td>0</td>\n",
       "      <td>This 30 minute documentary Buñuel made in the ...</td>\n",
       "    </tr>\n",
       "    <tr>\n",
       "      <th>24999</th>\n",
       "      <td>8478_8</td>\n",
       "      <td>1</td>\n",
       "      <td>I saw this movie as a child and it broke my he...</td>\n",
       "    </tr>\n",
       "  </tbody>\n",
       "</table>\n",
       "</div>"
      ],
      "text/plain": [
       "            id  sentiment                                             review\n",
       "24995   3453_3          0  It seems like more consideration has gone into...\n",
       "24996   5064_1          0  I don't believe they made this film. Completel...\n",
       "24997  10905_3          0  Guy is a loser. Can't get girls, needs to buil...\n",
       "24998  10194_3          0  This 30 minute documentary Buñuel made in the ...\n",
       "24999   8478_8          1  I saw this movie as a child and it broke my he..."
      ]
     },
     "execution_count": 5,
     "metadata": {},
     "output_type": "execute_result"
    }
   ],
   "source": [
    "# check for null\n",
    "df.tail()"
   ]
  },
  {
   "cell_type": "code",
   "execution_count": 6,
   "id": "6054b2a8",
   "metadata": {},
   "outputs": [
    {
     "data": {
      "text/html": [
       "<div>\n",
       "<style scoped>\n",
       "    .dataframe tbody tr th:only-of-type {\n",
       "        vertical-align: middle;\n",
       "    }\n",
       "\n",
       "    .dataframe tbody tr th {\n",
       "        vertical-align: top;\n",
       "    }\n",
       "\n",
       "    .dataframe thead th {\n",
       "        text-align: right;\n",
       "    }\n",
       "</style>\n",
       "<table border=\"1\" class=\"dataframe\">\n",
       "  <thead>\n",
       "    <tr style=\"text-align: right;\">\n",
       "      <th></th>\n",
       "      <th>id</th>\n",
       "      <th>sentiment</th>\n",
       "      <th>review</th>\n",
       "    </tr>\n",
       "  </thead>\n",
       "  <tbody>\n",
       "    <tr>\n",
       "      <th>24995</th>\n",
       "      <td>3453_3</td>\n",
       "      <td>0</td>\n",
       "      <td>It seems like more consideration has gone into...</td>\n",
       "    </tr>\n",
       "    <tr>\n",
       "      <th>24996</th>\n",
       "      <td>5064_1</td>\n",
       "      <td>0</td>\n",
       "      <td>I don't believe they made this film. Completel...</td>\n",
       "    </tr>\n",
       "    <tr>\n",
       "      <th>24997</th>\n",
       "      <td>10905_3</td>\n",
       "      <td>0</td>\n",
       "      <td>Guy is a loser. Can't get girls, needs to buil...</td>\n",
       "    </tr>\n",
       "    <tr>\n",
       "      <th>24998</th>\n",
       "      <td>10194_3</td>\n",
       "      <td>0</td>\n",
       "      <td>This 30 minute documentary Buñuel made in the ...</td>\n",
       "    </tr>\n",
       "    <tr>\n",
       "      <th>24999</th>\n",
       "      <td>8478_8</td>\n",
       "      <td>1</td>\n",
       "      <td>I saw this movie as a child and it broke my he...</td>\n",
       "    </tr>\n",
       "  </tbody>\n",
       "</table>\n",
       "</div>"
      ],
      "text/plain": [
       "            id  sentiment                                             review\n",
       "24995   3453_3          0  It seems like more consideration has gone into...\n",
       "24996   5064_1          0  I don't believe they made this film. Completel...\n",
       "24997  10905_3          0  Guy is a loser. Can't get girls, needs to buil...\n",
       "24998  10194_3          0  This 30 minute documentary Buñuel made in the ...\n",
       "24999   8478_8          1  I saw this movie as a child and it broke my he..."
      ]
     },
     "execution_count": 6,
     "metadata": {},
     "output_type": "execute_result"
    }
   ],
   "source": [
    "# view the tail\n",
    "df.tail()"
   ]
  },
  {
   "cell_type": "markdown",
   "id": "11ce9213",
   "metadata": {},
   "source": [
    "We can see that our data is perfectly balanced so we will not have to worry about balancing the data later. This is important because it may make the accuracy of an unbalanced data set seem high when in reality it is not performing very well if one class is much more likely than the other."
   ]
  },
  {
   "cell_type": "code",
   "execution_count": 7,
   "id": "a2a3782e",
   "metadata": {},
   "outputs": [
    {
     "data": {
      "text/plain": [
       "<Axes: title={'center': 'Distribution of Sentiments'}, xlabel='sentiment'>"
      ]
     },
     "execution_count": 7,
     "metadata": {},
     "output_type": "execute_result"
    },
    {
     "data": {
      "image/png": "[encoded data removed]",
      "text/plain": [
       "<Figure size 640x480 with 1 Axes>"
      ]
     },
     "metadata": {},
     "output_type": "display_data"
    }
   ],
   "source": [
    "df['sentiment'].value_counts().sort_index().plot(kind = 'bar', title = 'Distribution of Sentiments')"
   ]
  },
  {
   "cell_type": "code",
   "execution_count": 8,
   "id": "bbbfc4a0",
   "metadata": {},
   "outputs": [
    {
     "data": {
      "text/plain": [
       "sentiment\n",
       "1    12500\n",
       "0    12500\n",
       "Name: count, dtype: int64"
      ]
     },
     "execution_count": 8,
     "metadata": {},
     "output_type": "execute_result"
    }
   ],
   "source": [
    "# view value counts for sentiment\n",
    "df['sentiment'].value_counts()"
   ]
  },
  {
   "cell_type": "code",
   "execution_count": 9,
   "id": "06ca6b85",
   "metadata": {},
   "outputs": [
    {
     "data": {
      "text/html": [
       "<div>\n",
       "<style scoped>\n",
       "    .dataframe tbody tr th:only-of-type {\n",
       "        vertical-align: middle;\n",
       "    }\n",
       "\n",
       "    .dataframe tbody tr th {\n",
       "        vertical-align: top;\n",
       "    }\n",
       "\n",
       "    .dataframe thead th {\n",
       "        text-align: right;\n",
       "    }\n",
       "</style>\n",
       "<table border=\"1\" class=\"dataframe\">\n",
       "  <thead>\n",
       "    <tr style=\"text-align: right;\">\n",
       "      <th></th>\n",
       "      <th>id</th>\n",
       "      <th>sentiment</th>\n",
       "      <th>review</th>\n",
       "    </tr>\n",
       "  </thead>\n",
       "  <tbody>\n",
       "    <tr>\n",
       "      <th>0</th>\n",
       "      <td>5814_8</td>\n",
       "      <td>1</td>\n",
       "      <td>With all this stuff going down at the moment w...</td>\n",
       "    </tr>\n",
       "    <tr>\n",
       "      <th>1</th>\n",
       "      <td>2381_9</td>\n",
       "      <td>1</td>\n",
       "      <td>\\The Classic War of the Worlds\\\" by Timothy Hi...</td>\n",
       "    </tr>\n",
       "    <tr>\n",
       "      <th>4</th>\n",
       "      <td>9495_8</td>\n",
       "      <td>1</td>\n",
       "      <td>Superbly trashy and wondrously unpretentious 8...</td>\n",
       "    </tr>\n",
       "    <tr>\n",
       "      <th>5</th>\n",
       "      <td>8196_8</td>\n",
       "      <td>1</td>\n",
       "      <td>I dont know why people think this is such a ba...</td>\n",
       "    </tr>\n",
       "    <tr>\n",
       "      <th>9</th>\n",
       "      <td>8713_10</td>\n",
       "      <td>1</td>\n",
       "      <td>&lt;br /&gt;&lt;br /&gt;This movie is full of references. ...</td>\n",
       "    </tr>\n",
       "    <tr>\n",
       "      <th>11</th>\n",
       "      <td>6811_10</td>\n",
       "      <td>1</td>\n",
       "      <td>Although I generally do not like remakes belie...</td>\n",
       "    </tr>\n",
       "    <tr>\n",
       "      <th>12</th>\n",
       "      <td>11744_9</td>\n",
       "      <td>1</td>\n",
       "      <td>\\Mr. Harvey Lights a Candle\\\" is anchored by a...</td>\n",
       "    </tr>\n",
       "    <tr>\n",
       "      <th>18</th>\n",
       "      <td>3304_10</td>\n",
       "      <td>1</td>\n",
       "      <td>This movie is one among the very few Indian mo...</td>\n",
       "    </tr>\n",
       "    <tr>\n",
       "      <th>19</th>\n",
       "      <td>9352_10</td>\n",
       "      <td>1</td>\n",
       "      <td>Most people, especially young people, may not ...</td>\n",
       "    </tr>\n",
       "    <tr>\n",
       "      <th>20</th>\n",
       "      <td>3374_7</td>\n",
       "      <td>1</td>\n",
       "      <td>\\Soylent Green\\\" is one of the best and most d...</td>\n",
       "    </tr>\n",
       "  </tbody>\n",
       "</table>\n",
       "</div>"
      ],
      "text/plain": [
       "         id  sentiment                                             review\n",
       "0    5814_8          1  With all this stuff going down at the moment w...\n",
       "1    2381_9          1  \\The Classic War of the Worlds\\\" by Timothy Hi...\n",
       "4    9495_8          1  Superbly trashy and wondrously unpretentious 8...\n",
       "5    8196_8          1  I dont know why people think this is such a ba...\n",
       "9   8713_10          1  <br /><br />This movie is full of references. ...\n",
       "11  6811_10          1  Although I generally do not like remakes belie...\n",
       "12  11744_9          1  \\Mr. Harvey Lights a Candle\\\" is anchored by a...\n",
       "18  3304_10          1  This movie is one among the very few Indian mo...\n",
       "19  9352_10          1  Most people, especially young people, may not ...\n",
       "20   3374_7          1  \\Soylent Green\\\" is one of the best and most d..."
      ]
     },
     "execution_count": 9,
     "metadata": {},
     "output_type": "execute_result"
    }
   ],
   "source": [
    "# view 10 positive sentiments\n",
    "df[df['sentiment'] == 1][:10]"
   ]
  },
  {
   "cell_type": "markdown",
   "id": "15e87558",
   "metadata": {},
   "source": [
    "Before moving any further we see '< br />' is present in the 9th index. This should be removed and we can use str.replace to replace this string with a space instead. Any other punctuation can be removed using a RegexpTokenizer later, but we can use the string replace method to keep the string pattern simpler in our RegexpTokenizer."
   ]
  },
  {
   "cell_type": "code",
   "execution_count": 10,
   "id": "2eb89fb6",
   "metadata": {},
   "outputs": [
    {
     "data": {
      "text/plain": [
       "'<br /><br />This movie is full of references. Like \\\\Mad Max II\\\\\", \\\\\"The wild one\\\\\" and many others. The ladybug´s face it´s a clear reference (or tribute) to Peter Lorre. This movie is a masterpiece. We´ll talk much more about in the future.\"'"
      ]
     },
     "execution_count": 10,
     "metadata": {},
     "output_type": "execute_result"
    }
   ],
   "source": [
    "df.iloc[9]['review']"
   ]
  },
  {
   "cell_type": "code",
   "execution_count": 11,
   "id": "f9c4e0a4",
   "metadata": {},
   "outputs": [],
   "source": [
    "# clean the text by replacing <br /> with a space\n",
    "df['review'] = df['review'].str.replace('<br />', ' ')"
   ]
  },
  {
   "cell_type": "code",
   "execution_count": 12,
   "id": "0cdb6804",
   "metadata": {},
   "outputs": [
    {
     "data": {
      "text/plain": [
       "'  This movie is full of references. Like \\\\Mad Max II\\\\\", \\\\\"The wild one\\\\\" and many others. The ladybug´s face it´s a clear reference (or tribute) to Peter Lorre. This movie is a masterpiece. We´ll talk much more about in the future.\"'"
      ]
     },
     "execution_count": 12,
     "metadata": {},
     "output_type": "execute_result"
    }
   ],
   "source": [
    "# check that they have been removed\n",
    "df.iloc[9]['review']"
   ]
  },
  {
   "cell_type": "markdown",
   "id": "6d67c8e2",
   "metadata": {},
   "source": [
    "### Preprocessing Using Examples"
   ]
  },
  {
   "cell_type": "code",
   "execution_count": 13,
   "id": "6d37e9ec",
   "metadata": {},
   "outputs": [
    {
     "name": "stderr",
     "output_type": "stream",
     "text": [
      "[nltk_data] Downloading package punkt_tab to\n",
      "[nltk_data]     C:\\Users\\ryans\\AppData\\Roaming\\nltk_data...\n",
      "[nltk_data]   Package punkt_tab is already up-to-date!\n"
     ]
    },
    {
     "data": {
      "text/plain": [
       "True"
      ]
     },
     "execution_count": 13,
     "metadata": {},
     "output_type": "execute_result"
    }
   ],
   "source": [
    "# libraries needed for our sentiment analysis\n",
    "import nltk\n",
    "from nltk import word_tokenize\n",
    "from nltk import sent_tokenize\n",
    "\n",
    "nltk.download('punkt_tab')"
   ]
  },
  {
   "cell_type": "markdown",
   "id": "c276963b",
   "metadata": {},
   "source": [
    "The first thing we will have to do for our data is 'tokenize' the review. This means we will have to separate the string into separate words. We can do this using the **word_tokenize** function provided in nltk library. As we see from our example, every word is taken out of the string as its own entity and the punctuation also is included. The **word_tokenize** will use the Punkt Tokenizer which is a pre-trained tokenizer that is known to be highly effective. We can also tokenize on the sentence level and we will compare these results to the word level, later."
   ]
  },
  {
   "cell_type": "code",
   "execution_count": 14,
   "id": "364a6c11",
   "metadata": {},
   "outputs": [
    {
     "name": "stdout",
     "output_type": "stream",
     "text": [
      "['This', 'is', 'an', 'example', 'of', 'word', 'level', 'tokenizing', '.']\n"
     ]
    }
   ],
   "source": [
    "# example sentence to tokenize\n",
    "example = 'This is an example of word level tokenizing.'\n",
    "\n",
    "# print the results\n",
    "word_toke = word_tokenize(example)\n",
    "print(word_tokenize(example))"
   ]
  },
  {
   "cell_type": "code",
   "execution_count": 15,
   "id": "d5c0ae4c",
   "metadata": {},
   "outputs": [
    {
     "data": {
      "text/plain": [
       "'This'"
      ]
     },
     "execution_count": 15,
     "metadata": {},
     "output_type": "execute_result"
    }
   ],
   "source": [
    "# since it returns a list we can use indexing.\n",
    "word_toke[0]"
   ]
  },
  {
   "cell_type": "markdown",
   "id": "34eedd91",
   "metadata": {},
   "source": [
    "We can also tokenize at the sentence level so that every sentence is its own entity."
   ]
  },
  {
   "cell_type": "code",
   "execution_count": 16,
   "id": "c17933fd",
   "metadata": {},
   "outputs": [
    {
     "name": "stdout",
     "output_type": "stream",
     "text": [
      "['This is an example of sentence-level tokeizing.', 'There should be two separate entities.']\n"
     ]
    }
   ],
   "source": [
    "# example for sent_tokenize \n",
    "sentence_example = 'This is an example of sentence-level tokeizing. There should be two separate entities.'\n",
    "\n",
    "# print the results\n",
    "sent_toke = sent_tokenize(sentence_example)\n",
    "print(sent_toke)"
   ]
  },
  {
   "cell_type": "code",
   "execution_count": 17,
   "id": "6602b4a0",
   "metadata": {},
   "outputs": [
    {
     "data": {
      "text/plain": [
       "'There should be two separate entities.'"
      ]
     },
     "execution_count": 17,
     "metadata": {},
     "output_type": "execute_result"
    }
   ],
   "source": [
    "# indexing results\n",
    "sent_toke[1]"
   ]
  },
  {
   "cell_type": "markdown",
   "id": "be15364a",
   "metadata": {},
   "source": [
    "Since we will be using these reviews to classify them as being positive or negative, we can remove words that will appear in both positive and negative sentiments without describing the actual sentence. These are called 'stop words' and we have a few in our example sentence. We can import **stop_words** from **nltk**. After importing stop_words we can print the stop words to get an idea of what they are. We can also use the stop_words on our example to see how it is changed. This will clean our data. By looking at some of our reviews we can also see punctuation such as \"/\" that will have to be cleaned as well.\n",
    "\n",
    "Before removing the stop words we should also remove our punctuation since **word_tokenize()** will separate them like any other word but include them in the tokenized version. This is why we should remove the punctuation before using **word_tokenize()**. Also, we should do this before using stop_words because they will be working with the tokenized string. In our data we saw there was a \\, so after cleaning our data we should make sure to double check those rows to ensure it was removed with the punctuation. If it was not we can set up our own custom stop words."
   ]
  },
  {
   "cell_type": "code",
   "execution_count": 18,
   "id": "67f8032c",
   "metadata": {},
   "outputs": [],
   "source": [
    "# import stop words\n",
    "from nltk.corpus import stopwords"
   ]
  },
  {
   "cell_type": "code",
   "execution_count": 19,
   "id": "c9208080",
   "metadata": {},
   "outputs": [
    {
     "name": "stdout",
     "output_type": "stream",
     "text": [
      "{'up', 's', 'same', \"you're\", \"hasn't\", \"doesn't\", 'before', 'him', 'should', \"hadn't\", 'for', 'after', 'aren', 'because', 'with', 'an', 'there', 'couldn', \"she's\", 'most', 'too', 'a', \"you've\", 'but', 'down', \"you'll\", 'don', 'about', 'again', 'who', 'until', 'how', 'as', 'we', 'or', \"won't\", 'y', 't', 'than', 've', 'shouldn', 'when', 'are', 'if', 'yours', \"shouldn't\", \"don't\", 'hasn', 'into', 'all', \"it's\", 'at', 'mightn', 'hers', 'over', 'and', 'our', 'needn', 'why', 'o', 'above', 'is', 'what', \"should've\", 'have', 'now', 'ourselves', \"shan't\", 'from', 'themselves', 'won', \"haven't\", 'itself', 'been', 'of', 'any', 'their', \"wasn't\", 'll', 'he', 'while', 'd', \"aren't\", 'against', 'm', 'me', 'some', 'such', 'then', 'both', 'that', 'each', 'were', 'wasn', 'she', 'being', 'more', 'which', 'shan', 're', 'his', 'under', 'be', 'only', 'can', 'few', 'didn', 'your', 'isn', \"you'd\", 'does', 'further', 'hadn', 'having', 'nor', 'you', 'on', 'those', 'off', \"isn't\", 'my', 'in', 'theirs', 'has', 'yourself', 'between', 'doing', 'yourselves', 'not', 'ma', 'just', 'once', 'out', 'through', 'these', \"that'll\", \"mightn't\", 'the', 'ain', 'where', 'its', 'them', 'will', 'this', 'did', 'wouldn', 'they', 'by', 'haven', \"couldn't\", \"wouldn't\", 'himself', 'do', 'mustn', 'whom', 'own', \"weren't\", 'herself', 'myself', 'i', 'during', 'doesn', 'was', 'had', 'below', \"didn't\", 'here', 'weren', 'very', \"needn't\", 'other', 'her', 'it', 'am', 'no', 'so', \"mustn't\", 'ours', 'to'}\n"
     ]
    }
   ],
   "source": [
    "# set a variable equal to the english stopwords\n",
    "stop_words = set(stopwords.words('english'))\n",
    "\n",
    "# print all english stop words\n",
    "print(stop_words)"
   ]
  },
  {
   "cell_type": "code",
   "execution_count": 20,
   "id": "cb80e128",
   "metadata": {},
   "outputs": [],
   "source": [
    "# import string to help us remove the punctuation and join letters to form words\n",
    "import string"
   ]
  },
  {
   "cell_type": "markdown",
   "id": "c8993321",
   "metadata": {},
   "source": [
    "Now we should remove the punctuation since they do not help us make sense of sentiments. We will be tokenizing on the word level and we do not want punctuation to be its own entity that will recieve a value later in our calculations."
   ]
  },
  {
   "cell_type": "code",
   "execution_count": 21,
   "id": "3e162191",
   "metadata": {},
   "outputs": [
    {
     "name": "stdout",
     "output_type": "stream",
     "text": [
      "['N', 'e', 'x', 't', ' ', 'l', 'e', 't', 's', ' ', 'r', 'e', 'm', 'o', 'v', 'e', ' ', 't', 'h', 'e', ' ', 'p', 'u', 'n', 'c', 't', 'u', 'a', 't', 'i', 'o', 'n']\n"
     ]
    }
   ],
   "source": [
    "# make punctuation a set so it is faster\n",
    "punctuation = set(string.punctuation)\n",
    "\n",
    "# punctuation removal example\n",
    "punc_example = 'Next, let\"s remove the punctuation!'\n",
    "\n",
    "# for loop to remove punctuation\n",
    "punc_example1 = [char for char in punc_example if char not in punctuation]\n",
    "\n",
    "# results\n",
    "print(punc_example1)"
   ]
  },
  {
   "cell_type": "markdown",
   "id": "39ccba89",
   "metadata": {},
   "source": [
    "Now we need to join the words together again since they have been pu into a list. The syntax for **join** is **separator.join(list)** and in our case we want to join the letters by seperating them on blank spaces so the separator is the empty space and everything between the empty space will be joined."
   ]
  },
  {
   "cell_type": "code",
   "execution_count": 22,
   "id": "3ae367b5",
   "metadata": {},
   "outputs": [
    {
     "name": "stdout",
     "output_type": "stream",
     "text": [
      "Next lets remove the punctuation\n"
     ]
    }
   ],
   "source": [
    "# join the words together based on the whitespace created from removing punctuation\n",
    "punc_example1 = ''.join(punc_example1)\n",
    "\n",
    "# print results\n",
    "print(punc_example1)"
   ]
  },
  {
   "cell_type": "markdown",
   "id": "68a2c70e",
   "metadata": {},
   "source": [
    "A more efficient way is to use **translate** which does both steps at the same time. **maketrans** takes three arguments. The first argument is a string of characters that we want to replace. In our example, we do not want to replace any characters. The second argument is the string to replace the characters we wanted to replace them with which again is nothing in our case. The third argument is a string that we want to delete. This prevents us from having to create a for loop along with the join method."
   ]
  },
  {
   "cell_type": "code",
   "execution_count": 23,
   "id": "c2968bcf",
   "metadata": {},
   "outputs": [
    {
     "data": {
      "text/plain": [
       "'Next lets remove the punctuation'"
      ]
     },
     "execution_count": 23,
     "metadata": {},
     "output_type": "execute_result"
    }
   ],
   "source": [
    "punc_example2 = 'Next, let\"s remove the punctuation!'\n",
    "punc_example2 = punc_example2.translate(str.maketrans('', '', string.punctuation))\n",
    "punc_example2"
   ]
  },
  {
   "cell_type": "code",
   "execution_count": 24,
   "id": "840211a4",
   "metadata": {},
   "outputs": [
    {
     "data": {
      "text/plain": [
       "['Next', 'lets', 'remove', 'the', 'punctuation']"
      ]
     },
     "execution_count": 24,
     "metadata": {},
     "output_type": "execute_result"
    }
   ],
   "source": [
    "# use word_tokenize now then use stopwords\n",
    "tokenized = word_tokenize(punc_example1)\n",
    "tokenized"
   ]
  },
  {
   "cell_type": "code",
   "execution_count": 25,
   "id": "38b580fe",
   "metadata": {},
   "outputs": [
    {
     "name": "stdout",
     "output_type": "stream",
     "text": [
      "['Next', 'lets', 'remove', 'punctuation']\n"
     ]
    }
   ],
   "source": [
    "# remove the stop words with a function similar to our punctuation one. ('the')\n",
    "filtered_sentence = [word for word in tokenized if not word.lower() in stop_words]\n",
    "\n",
    "# print the results\n",
    "print(filtered_sentence)"
   ]
  },
  {
   "cell_type": "markdown",
   "id": "57faa7e6",
   "metadata": {},
   "source": [
    "At this point our text data is cleaned but is not ready for any machine learning analysis. Our machine learning algorithm will have to work with numerical numbers so we will have to create a **document term matrix (DTM)**. This will assign each word to an integer in a matrix throughout our data. We can do this using **CountVectorizer** from **sklearn.feature_extraction.text**. We can demonstrate how this works on a single sentence before using it on all of our data."
   ]
  },
  {
   "cell_type": "code",
   "execution_count": 26,
   "id": "dfbb7b07",
   "metadata": {},
   "outputs": [],
   "source": [
    "# We can use CountVectorizer so that we are working with numbers\n",
    "from sklearn.feature_extraction.text import CountVectorizer"
   ]
  },
  {
   "cell_type": "markdown",
   "id": "1a44fe4a",
   "metadata": {},
   "source": [
    "Like many other modules in sklearn we will create an object then fit our data to the object then transform our data using the object. After fitting our test example to the **CountVectorizer** object we can use **.vocabulary_** to see what is happening. This has created a dictionary that stores each word as an integer. Our test sentiment has the word test listed two times so the dictionary only has test listed once. In our example, test is assigned to the value 2. We can also see that the stopwords have not been removed, but the word 'a' is gone because **CountVectorizer** counts words that are atleast two characters in length by default. We can add stop_words to the **CountVectorizer** and we will show this later."
   ]
  },
  {
   "cell_type": "code",
   "execution_count": 27,
   "id": "ea76d1c7",
   "metadata": {},
   "outputs": [
    {
     "name": "stdout",
     "output_type": "stream",
     "text": [
      "{'this': 4, 'is': 1, 'test': 2, 'that': 3, 'called': 0}\n"
     ]
    }
   ],
   "source": [
    "# sentiment example\n",
    "test = [\"This is a test that's called test.\"]\n",
    "\n",
    "# initiate a CountVectorizer object\n",
    "vectorizer = CountVectorizer()\n",
    "\n",
    "# fit the vectorizer on our data\n",
    "vectorizer.fit(test)\n",
    "\n",
    "# print the fitted data (not transformed yet)\n",
    "print(vectorizer.vocabulary_)"
   ]
  },
  {
   "cell_type": "code",
   "execution_count": 28,
   "id": "1538bd68",
   "metadata": {},
   "outputs": [
    {
     "name": "stdout",
     "output_type": "stream",
     "text": [
      "<Compressed Sparse Row sparse matrix of dtype 'int64'\n",
      "\twith 5 stored elements and shape (1, 5)>\n",
      "  Coords\tValues\n",
      "  (0, 0)\t1\n",
      "  (0, 1)\t1\n",
      "  (0, 2)\t2\n",
      "  (0, 3)\t1\n",
      "  (0, 4)\t1\n"
     ]
    }
   ],
   "source": [
    "# transform our data\n",
    "vector = vectorizer.transform(test)\n",
    "print(vector)"
   ]
  },
  {
   "cell_type": "markdown",
   "id": "ff84ab7c",
   "metadata": {},
   "source": [
    "### Preprocessing Our Data"
   ]
  },
  {
   "cell_type": "markdown",
   "id": "f37b0bf0",
   "metadata": {},
   "source": [
    "Now that we have run through some basic examples on what we have to do to the sentiments in our data we can use these techniques to preprocess our data. We went through numerous steps that included:\n",
    "+ remove unwanted characters such as HTML tags \n",
    "+ convert all the text to lowercase\n",
    "+ remove punctuation\n",
    "+ tokenize\n",
    "+ remove stop words\n",
    "\n",
    "We can create a function that lists these steps and pass our dataframe into it."
   ]
  },
  {
   "cell_type": "markdown",
   "id": "82982499",
   "metadata": {},
   "source": [
    "A quick word on regex...\n",
    "we can import **re** which helps us work with regular expressions. This will help us identify and transform/remove/replace certain characters in a document/corpus. Regex can be complicated and confusing since there are many different combinations with awkward syntax. Help can be found here: https://www3.ntu.edu.sg/home/ehchua/programming/howto/Regexe.html"
   ]
  },
  {
   "cell_type": "markdown",
   "id": "b2da127b",
   "metadata": {},
   "source": [
    "We will be using **re.sub()** which has the following syntax:\n",
    "+ re.sub(pattern, replacement, string), where pattern is what we want to identify, replacement is what we want to replace it with, and string is the string we are applying it to (such as a document).\n",
    "+ since we identified some HTML tags in our initial data inspection, we will use the pattern r'<.*?>'\n",
    "+ we want to replace the HTML tags with a blank space so we will use '' as the second argument. \n",
    "+ we are applying this transformation to our reviews data."
   ]
  },
  {
   "cell_type": "code",
   "execution_count": 29,
   "id": "643c3793",
   "metadata": {},
   "outputs": [],
   "source": [
    "import re\n",
    "\n",
    "def text_preprocessing(text):\n",
    "    \n",
    "    # step one - remove the tags\n",
    "    text = re.sub(r'<.*?>', '', text)\n",
    "\n",
    "    # step two - convert to lowercase so words are treated the same \n",
    "    text = text.lower()\n",
    "    \n",
    "    # step 3 - use translate to remove punctuation - translation needs a string so dont use set\n",
    "    text = text.translate(str.maketrans('', '', string.punctuation))\n",
    "    \n",
    "    # step 4 - tokenize\n",
    "    text = word_tokenize(text)\n",
    "\n",
    "    # stop words\n",
    "    text = [word for word in text if word not in stop_words]\n",
    "\n",
    "    return text\n",
    "    "
   ]
  },
  {
   "cell_type": "code",
   "execution_count": 30,
   "id": "81583648",
   "metadata": {},
   "outputs": [],
   "source": [
    "# create a new column using the function \n",
    "data = df.copy()\n",
    "data['preprocessed'] = data.iloc[:, 2].apply(text_preprocessing)"
   ]
  },
  {
   "cell_type": "markdown",
   "id": "51ebf729",
   "metadata": {},
   "source": [
    "Now, we can view the old reviews and the preprocessed reviews side-by-side to see if we receive what is expected. The new column **preprocessed** has no HTML tags (such as <'br'>) that we saw, Everything is lowercase, there is no punctuation, the words have been tokenized into a list separated by commas, and stop words have been removed."
   ]
  },
  {
   "cell_type": "code",
   "execution_count": 31,
   "id": "4b23cb2d",
   "metadata": {},
   "outputs": [
    {
     "data": {
      "text/html": [
       "<div>\n",
       "<style scoped>\n",
       "    .dataframe tbody tr th:only-of-type {\n",
       "        vertical-align: middle;\n",
       "    }\n",
       "\n",
       "    .dataframe tbody tr th {\n",
       "        vertical-align: top;\n",
       "    }\n",
       "\n",
       "    .dataframe thead th {\n",
       "        text-align: right;\n",
       "    }\n",
       "</style>\n",
       "<table border=\"1\" class=\"dataframe\">\n",
       "  <thead>\n",
       "    <tr style=\"text-align: right;\">\n",
       "      <th></th>\n",
       "      <th>id</th>\n",
       "      <th>sentiment</th>\n",
       "      <th>review</th>\n",
       "      <th>preprocessed</th>\n",
       "    </tr>\n",
       "  </thead>\n",
       "  <tbody>\n",
       "    <tr>\n",
       "      <th>0</th>\n",
       "      <td>5814_8</td>\n",
       "      <td>1</td>\n",
       "      <td>With all this stuff going down at the moment w...</td>\n",
       "      <td>[stuff, going, moment, mj, ive, started, liste...</td>\n",
       "    </tr>\n",
       "    <tr>\n",
       "      <th>1</th>\n",
       "      <td>2381_9</td>\n",
       "      <td>1</td>\n",
       "      <td>\\The Classic War of the Worlds\\\" by Timothy Hi...</td>\n",
       "      <td>[classic, war, worlds, timothy, hines, enterta...</td>\n",
       "    </tr>\n",
       "    <tr>\n",
       "      <th>2</th>\n",
       "      <td>7759_3</td>\n",
       "      <td>0</td>\n",
       "      <td>The film starts with a manager (Nicholas Bell)...</td>\n",
       "      <td>[film, starts, manager, nicholas, bell, giving...</td>\n",
       "    </tr>\n",
       "    <tr>\n",
       "      <th>3</th>\n",
       "      <td>3630_4</td>\n",
       "      <td>0</td>\n",
       "      <td>It must be assumed that those who praised this...</td>\n",
       "      <td>[must, assumed, praised, film, greatest, filme...</td>\n",
       "    </tr>\n",
       "    <tr>\n",
       "      <th>4</th>\n",
       "      <td>9495_8</td>\n",
       "      <td>1</td>\n",
       "      <td>Superbly trashy and wondrously unpretentious 8...</td>\n",
       "      <td>[superbly, trashy, wondrously, unpretentious, ...</td>\n",
       "    </tr>\n",
       "    <tr>\n",
       "      <th>5</th>\n",
       "      <td>8196_8</td>\n",
       "      <td>1</td>\n",
       "      <td>I dont know why people think this is such a ba...</td>\n",
       "      <td>[dont, know, people, think, bad, movie, got, p...</td>\n",
       "    </tr>\n",
       "    <tr>\n",
       "      <th>6</th>\n",
       "      <td>7166_2</td>\n",
       "      <td>0</td>\n",
       "      <td>This movie could have been very good, but come...</td>\n",
       "      <td>[movie, could, good, comes, way, short, cheesy...</td>\n",
       "    </tr>\n",
       "    <tr>\n",
       "      <th>7</th>\n",
       "      <td>10633_1</td>\n",
       "      <td>0</td>\n",
       "      <td>I watched this video at a friend's house. I'm ...</td>\n",
       "      <td>[watched, video, friends, house, im, glad, was...</td>\n",
       "    </tr>\n",
       "    <tr>\n",
       "      <th>8</th>\n",
       "      <td>319_1</td>\n",
       "      <td>0</td>\n",
       "      <td>A friend of mine bought this film for £1, and ...</td>\n",
       "      <td>[friend, mine, bought, film, £1, even, grossly...</td>\n",
       "    </tr>\n",
       "    <tr>\n",
       "      <th>9</th>\n",
       "      <td>8713_10</td>\n",
       "      <td>1</td>\n",
       "      <td>This movie is full of references. Like \\Mad ...</td>\n",
       "      <td>[movie, full, references, like, mad, max, ii, ...</td>\n",
       "    </tr>\n",
       "    <tr>\n",
       "      <th>10</th>\n",
       "      <td>2486_3</td>\n",
       "      <td>0</td>\n",
       "      <td>What happens when an army of wetbacks, towelhe...</td>\n",
       "      <td>[happens, army, wetbacks, towelheads, godless,...</td>\n",
       "    </tr>\n",
       "    <tr>\n",
       "      <th>11</th>\n",
       "      <td>6811_10</td>\n",
       "      <td>1</td>\n",
       "      <td>Although I generally do not like remakes belie...</td>\n",
       "      <td>[although, generally, like, remakes, believing...</td>\n",
       "    </tr>\n",
       "  </tbody>\n",
       "</table>\n",
       "</div>"
      ],
      "text/plain": [
       "         id  ...                                       preprocessed\n",
       "0    5814_8  ...  [stuff, going, moment, mj, ive, started, liste...\n",
       "1    2381_9  ...  [classic, war, worlds, timothy, hines, enterta...\n",
       "2    7759_3  ...  [film, starts, manager, nicholas, bell, giving...\n",
       "3    3630_4  ...  [must, assumed, praised, film, greatest, filme...\n",
       "4    9495_8  ...  [superbly, trashy, wondrously, unpretentious, ...\n",
       "5    8196_8  ...  [dont, know, people, think, bad, movie, got, p...\n",
       "6    7166_2  ...  [movie, could, good, comes, way, short, cheesy...\n",
       "7   10633_1  ...  [watched, video, friends, house, im, glad, was...\n",
       "8     319_1  ...  [friend, mine, bought, film, £1, even, grossly...\n",
       "9   8713_10  ...  [movie, full, references, like, mad, max, ii, ...\n",
       "10   2486_3  ...  [happens, army, wetbacks, towelheads, godless,...\n",
       "11  6811_10  ...  [although, generally, like, remakes, believing...\n",
       "\n",
       "[12 rows x 4 columns]"
      ]
     },
     "execution_count": 31,
     "metadata": {},
     "output_type": "execute_result"
    }
   ],
   "source": [
    "data.head(12)"
   ]
  },
  {
   "cell_type": "markdown",
   "id": "5143b226",
   "metadata": {},
   "source": [
    "After creating the function we can pass our column through using .apply() but since we are working with a large dataset it will take a long time making it computationally expensive. Luckily for us, we can use **RegexpTokenizer** from nltk.tokenize to speed up this process. When using **CountVectorizer** there are parameters for both stop words and tokenizer. We can pass through the english stopwords and create a tokenizer from nltk that will tokenize our words based on the pattern. When using the regexptokenizer we will state that we want our pattern to be all lower case and upper case letters and all numbers. By using this approach we cover all of our bases in the text_preprocessing function besides removing the tags. Since tags contain symbols and letters, we may introduce tokens such as \"div\" that we want to avoid. This means we can remove the tags then use **RegexpTokenizer** and everything will be covered."
   ]
  },
  {
   "cell_type": "code",
   "execution_count": 32,
   "id": "f91e1377",
   "metadata": {},
   "outputs": [],
   "source": [
    "from nltk.tokenize import RegexpTokenizer"
   ]
  },
  {
   "cell_type": "markdown",
   "id": "2d1cc768",
   "metadata": {},
   "source": [
    "This can streamline our preprocessing into just a few steps and run much faster than our apply method. Below we have a sample string that we will remove punctuation, stop words, tokenize, and transform into a **document term matrix**. First, we set up a **RegexpTokenizer** object with a pattern that we want to look for. This will remove the punctuation from our string. Then we set up our DTM by using a CountVectorizer and remove stopwords by stating 'english' in that parameter. Then, we use the tokenizer that we established as another parameter. The resulting matrix shows there are no stop words and that *machine* and *learning* are counted twice as they should be. This is basically the same thing we did above but now the process is streamlined for us.\n",
    "\n",
    "**Document Term Matrix** - The DTM is a numerical representation of our text data. Each row of the matrix contains a document in the corpus. A corpus is just a collection of documents. Each column in the matrix represents a unique word in the corpus. The value within each cell corresponds to the count for that word, or a normalized form/binary indicator of presence/absence. If we do not use **Term Frequency - Inverse Document Frequency (TF-IDF)** they will just be the counts."
   ]
  },
  {
   "cell_type": "markdown",
   "id": "5507cf54",
   "metadata": {},
   "source": [
    "In the example below, we can see how this works for just one string. We use the **RegexpTokenizer** to tokenize our string based on the regex pattern which will inculde only numbers and letters. This is passed to the **CountVectorizer** construction which tells it to tokenize the words using our custom pattern. We also pass in english stop words so that process is handled for us as well. We set **token_pattern** to None because **CountVectorizer** has built in tokenizers that we can use if we would like. The default pattern for the **CountVectorizer** is **r'(?u)\\b\\w\\w+\\b'** which matches any alphabetical/numerical characters more than length=1 and underscores. This also ignores punctuation and symbols so it would work fine in our code. I am only using the **RegexpTokenizer** to show how it works."
   ]
  },
  {
   "cell_type": "code",
   "execution_count": 33,
   "id": "60c44b73",
   "metadata": {},
   "outputs": [
    {
     "name": "stdout",
     "output_type": "stream",
     "text": [
      "{'love': 3, 'machine': 4, 'learning': 2, '101': 0, 'fun': 1}\n"
     ]
    }
   ],
   "source": [
    "# create a sample string\n",
    "string_sample = ['I love machine --learning, Machine Learning 101 is fun.']\n",
    "\n",
    "# set up a tokenizer looking for the pattern of letters or numbers\n",
    "toke = RegexpTokenizer('[A-Za-z0-9]+')\n",
    "\n",
    "# create a CountVectorizer using the parameters for stop words and our tokenizer\n",
    "vec = CountVectorizer(stop_words='english', tokenizer= toke.tokenize, token_pattern=None)\n",
    "\n",
    "# fit the CountVectorizer\n",
    "dtm = vec.fit(string_sample)\n",
    "\n",
    "# view the digits dictionary for the matrix\n",
    "print(dtm.vocabulary_)"
   ]
  },
  {
   "cell_type": "markdown",
   "id": "e6b82053",
   "metadata": {},
   "source": [
    "When we print the **dtm.vocabulary_** we can see the numerical representation of each word. 'Love' is 3, 'machine' is 4, 'learning' is 2, '101' is 0 and 'fun' is 1. We can transform the string that will create a matrix representation. Since this string is the only document in the corpus, they will all have 0 for the row. The coordinates represent the \"Document Term\" matrix so the Document is the row, and the Term is the column.\n",
    "\n",
    "The coordinates (0, 0) means we are looking at our first document (only document in this case) and the term that cooresponds to 0 which is '101'. The value for this coordinate is 1 because the term '101' appears only one time. The coordinates (0, 2) have a value of 2 because the word associated with the number 2 is 'learning' and that appears in this document two times.\n",
    "\n"
   ]
  },
  {
   "cell_type": "code",
   "execution_count": 34,
   "id": "482267d8",
   "metadata": {},
   "outputs": [
    {
     "name": "stdout",
     "output_type": "stream",
     "text": [
      "<Compressed Sparse Row sparse matrix of dtype 'int64'\n",
      "\twith 5 stored elements and shape (1, 5)>\n",
      "  Coords\tValues\n",
      "  (0, 0)\t1\n",
      "  (0, 1)\t1\n",
      "  (0, 2)\t2\n",
      "  (0, 3)\t1\n",
      "  (0, 4)\t2\n"
     ]
    }
   ],
   "source": [
    "# create a variable for our matrix\n",
    "matrix = dtm.transform(string_sample)\n",
    "\n",
    "# print the matrix to make sure machine and learning are there twice.\n",
    "print(matrix)"
   ]
  },
  {
   "cell_type": "markdown",
   "id": "cca40bde",
   "metadata": {},
   "source": [
    "Now we will run a test to see how we tokenize data that is in our dataframe. We select the second row of our review column and tokenize that sentiment. This has removed any punctuation and next we would pass this tokenizer into our CountVectorizer."
   ]
  },
  {
   "cell_type": "code",
   "execution_count": 35,
   "id": "59825ce1",
   "metadata": {},
   "outputs": [
    {
     "data": {
      "text/plain": [
       "'\\\\The Classic War of the Worlds\\\\\" by Timothy Hines is a very entertaining film that obviously goes to great effort and lengths to faithfully recreate H. G. Wells\\' classic book. Mr. Hines succeeds in doing so. I, and those who watched his film with me, appreciated the fact that it was not the standard, predictable Hollywood fare that comes out every year, e.g. the Spielberg version with Tom Cruise that had only the slightest resemblance to the book. Obviously, everyone looks for different things in a movie. Those who envision themselves as amateur \\\\\"critics\\\\\" look only to criticize everything they can. Others rate a movie on more important bases,like being entertained, which is why most people never agree with the \\\\\"critics\\\\\". We enjoyed the effort Mr. Hines put into being faithful to H.G. Wells\\' classic novel, and we found it to be very entertaining. This made it easy to overlook what the \\\\\"critics\\\\\" perceive to be its shortcomings.\"'"
      ]
     },
     "execution_count": 35,
     "metadata": {},
     "output_type": "execute_result"
    }
   ],
   "source": [
    "# run a test on the second row (1 index)\n",
    "data_test = data.iloc[1]['review']\n",
    "data_test"
   ]
  },
  {
   "cell_type": "code",
   "execution_count": 36,
   "id": "29c80f65",
   "metadata": {},
   "outputs": [
    {
     "name": "stdout",
     "output_type": "stream",
     "text": [
      "['The', 'Classic', 'War', 'of', 'the', 'Worlds', 'by', 'Timothy', 'Hines', 'is', 'a', 'very', 'entertaining', 'film', 'that', 'obviously', 'goes', 'to', 'great', 'effort', 'and', 'lengths', 'to', 'faithfully', 'recreate', 'H', 'G', 'Wells', 'classic', 'book', 'Mr', 'Hines', 'succeeds', 'in', 'doing', 'so', 'I', 'and', 'those', 'who', 'watched', 'his', 'film', 'with', 'me', 'appreciated', 'the', 'fact', 'that', 'it', 'was', 'not', 'the', 'standard', 'predictable', 'Hollywood', 'fare', 'that', 'comes', 'out', 'every', 'year', 'e', 'g', 'the', 'Spielberg', 'version', 'with', 'Tom', 'Cruise', 'that', 'had', 'only', 'the', 'slightest', 'resemblance', 'to', 'the', 'book', 'Obviously', 'everyone', 'looks', 'for', 'different', 'things', 'in', 'a', 'movie', 'Those', 'who', 'envision', 'themselves', 'as', 'amateur', 'critics', 'look', 'only', 'to', 'criticize', 'everything', 'they', 'can', 'Others', 'rate', 'a', 'movie', 'on', 'more', 'important', 'bases', 'like', 'being', 'entertained', 'which', 'is', 'why', 'most', 'people', 'never', 'agree', 'with', 'the', 'critics', 'We', 'enjoyed', 'the', 'effort', 'Mr', 'Hines', 'put', 'into', 'being', 'faithful', 'to', 'H', 'G', 'Wells', 'classic', 'novel', 'and', 'we', 'found', 'it', 'to', 'be', 'very', 'entertaining', 'This', 'made', 'it', 'easy', 'to', 'overlook', 'what', 'the', 'critics', 'perceive', 'to', 'be', 'its', 'shortcomings']\n"
     ]
    }
   ],
   "source": [
    "# create a tokenizer with all letters and numbers\n",
    "data_toke = RegexpTokenizer('[A-Za-z0-9]+')\n",
    "tokens = data_toke.tokenize(data_test)\n",
    "print(tokens)"
   ]
  },
  {
   "cell_type": "markdown",
   "id": "f6b8512f",
   "metadata": {},
   "source": [
    "After running these tests and examples, we know what is happening to the data. After clarifying the results we see there are a few tokens that will not help us with our analysis. These include 'e' and 'g'. This can be prevented using the token_pattern default with the **CountVectorizer**. Now we are ready to implement this preprocessing on our dataframe. Printing the entire vocabulary in this case would be too much to gain a lot of insights from, but when we print the first 20 words we see that there is a potential problem with our document-term matrix/vocabulary. The default tokenizer in the **CountVectorizer** does not remove digits. We would think that digits can help us understand sentiments such as \"this movie is a 10 out of 10!\", or \"5 stars!\". However, we have vocabulary words such as \"0083\" that may not help us very much. This is something to keep an eye on and make note of for optimizations."
   ]
  },
  {
   "cell_type": "code",
   "execution_count": 37,
   "id": "73c99310",
   "metadata": {},
   "outputs": [
    {
     "name": "stdout",
     "output_type": "stream",
     "text": [
      "[('00', 0), ('000', 1), ('0000000000001', 2), ('00001', 3), ('00015', 4), ('000s', 5), ('001', 6), ('003830', 7), ('006', 8), ('007', 9)]\n"
     ]
    }
   ],
   "source": [
    "# create CountVectorizer using the stopwords and default tokenizer\n",
    "count_vect = CountVectorizer(stop_words = 'english')\n",
    "\n",
    "# fit our data to the CountVectorizer\n",
    "our_count_vect = count_vect.fit(df['review'])\n",
    "\n",
    "# create a sliceable data type\n",
    "sorted_vocab = sorted(our_count_vect.vocabulary_.items(), key=lambda item:item[1])\n",
    "\n",
    "# view (very long) vocabulary dictionary\n",
    "print(sorted_vocab[:10])"
   ]
  },
  {
   "cell_type": "markdown",
   "id": "35018cfe",
   "metadata": {},
   "source": [
    "These numbers go on for a very long time so they should definitely be taken care of which we will do when we optimize our model. In the following cell we also see many forms of the same word 'aesthetic' that would all be handled differently so we should look in to stemming and lemmatization."
   ]
  },
  {
   "cell_type": "code",
   "execution_count": 38,
   "id": "1fc5a1b1",
   "metadata": {},
   "outputs": [
    {
     "name": "stdout",
     "output_type": "stream",
     "text": [
      "[('aesthete', 2000), ('aesthetic', 2001), ('aesthetical', 2002), ('aesthetically', 2003), ('aestheticism', 2004), ('aesthetics', 2005), ('aetheist', 2006), ('aetherial', 2007), ('aetv', 2008), ('af', 2009)]\n"
     ]
    }
   ],
   "source": [
    "# view more vocab\n",
    "print(sorted_vocab[2000:2010])"
   ]
  },
  {
   "cell_type": "markdown",
   "id": "b7aa3613",
   "metadata": {},
   "source": [
    "For now, we will just create a baseline model without stemming or lemmatizing or removing the numbers."
   ]
  },
  {
   "cell_type": "code",
   "execution_count": 39,
   "id": "0e33210c",
   "metadata": {},
   "outputs": [],
   "source": [
    "# transform our data\n",
    "dtm = our_count_vect.transform(data['review'])"
   ]
  },
  {
   "cell_type": "markdown",
   "id": "1d834d1c",
   "metadata": {},
   "source": [
    "We can print the first sentence to see that it is very long and has the row number 0 along with the word that has been transformed into an integer. Many words have only been used one time. "
   ]
  },
  {
   "cell_type": "code",
   "execution_count": 40,
   "id": "2afd88b3",
   "metadata": {},
   "outputs": [
    {
     "name": "stdout",
     "output_type": "stream",
     "text": [
      "<Compressed Sparse Row sparse matrix of dtype 'int64'\n",
      "\twith 145 stored elements and shape (1, 74516)>\n",
      "  Coords\tValues\n",
      "  (0, 439)\t1\n",
      "  (0, 1661)\t1\n",
      "  (0, 4855)\t1\n",
      "  (0, 5220)\t1\n",
      "  (0, 5469)\t3\n",
      "  (0, 6999)\t1\n",
      "  (0, 7353)\t1\n",
      "  (0, 7434)\t1\n",
      "  (0, 8461)\t1\n",
      "  (0, 9441)\t1\n",
      "  (0, 9608)\t1\n",
      "  (0, 10214)\t1\n",
      "  (0, 10530)\t1\n",
      "  (0, 11319)\t1\n",
      "  (0, 11556)\t1\n",
      "  (0, 12394)\t1\n",
      "  (0, 12873)\t1\n",
      "  (0, 13728)\t1\n",
      "  (0, 14220)\t1\n",
      "  (0, 14601)\t1\n",
      "  (0, 14634)\t2\n",
      "  (0, 15090)\t1\n",
      "  (0, 15486)\t1\n",
      "  (0, 16355)\t1\n",
      "  (0, 16681)\t1\n",
      "  :\t:\n",
      "  (0, 63538)\t1\n",
      "  (0, 63586)\t1\n",
      "  (0, 63685)\t1\n",
      "  (0, 63804)\t1\n",
      "  (0, 64292)\t1\n",
      "  (0, 65119)\t1\n",
      "  (0, 66257)\t1\n",
      "  (0, 66259)\t1\n",
      "  (0, 66350)\t1\n",
      "  (0, 68078)\t1\n",
      "  (0, 68095)\t1\n",
      "  (0, 68128)\t1\n",
      "  (0, 68340)\t1\n",
      "  (0, 69546)\t1\n",
      "  (0, 70245)\t1\n",
      "  (0, 70629)\t2\n",
      "  (0, 71283)\t1\n",
      "  (0, 71794)\t1\n",
      "  (0, 71797)\t1\n",
      "  (0, 71802)\t1\n",
      "  (0, 71958)\t2\n",
      "  (0, 71964)\t1\n",
      "  (0, 72599)\t1\n",
      "  (0, 73069)\t1\n",
      "  (0, 73306)\t1\n"
     ]
    }
   ],
   "source": [
    "# print the first sentence. Using this slicing the syntax is [row:row+1] since the end slice is exlusive.\n",
    "print(dtm[0:1])"
   ]
  },
  {
   "cell_type": "code",
   "execution_count": 41,
   "id": "0fb6ddfa",
   "metadata": {},
   "outputs": [
    {
     "name": "stdout",
     "output_type": "stream",
     "text": [
      "<Compressed Sparse Row sparse matrix of dtype 'int64'\n",
      "\twith 57 stored elements and shape (1, 74516)>\n",
      "  Coords\tValues\n",
      "  (0, 2231)\t1\n",
      "  (0, 2918)\t1\n",
      "  (0, 3906)\t1\n",
      "  (0, 6095)\t1\n",
      "  (0, 8326)\t2\n",
      "  (0, 12617)\t3\n",
      "  (0, 13448)\t1\n",
      "  (0, 15559)\t1\n",
      "  (0, 15563)\t3\n",
      "  (0, 15729)\t1\n",
      "  (0, 18268)\t1\n",
      "  (0, 19402)\t1\n",
      "  (0, 20718)\t1\n",
      "  (0, 20966)\t2\n",
      "  (0, 21844)\t1\n",
      "  (0, 21968)\t1\n",
      "  (0, 21973)\t2\n",
      "  (0, 22084)\t1\n",
      "  (0, 23423)\t1\n",
      "  (0, 23507)\t1\n",
      "  (0, 23508)\t1\n",
      "  (0, 23708)\t1\n",
      "  (0, 24440)\t2\n",
      "  (0, 27833)\t1\n",
      "  (0, 28433)\t1\n",
      "  :\t:\n",
      "  (0, 43979)\t2\n",
      "  (0, 44037)\t2\n",
      "  (0, 45942)\t1\n",
      "  (0, 46362)\t2\n",
      "  (0, 47531)\t1\n",
      "  (0, 48939)\t1\n",
      "  (0, 48975)\t1\n",
      "  (0, 51122)\t1\n",
      "  (0, 53381)\t1\n",
      "  (0, 53923)\t1\n",
      "  (0, 54935)\t1\n",
      "  (0, 59587)\t1\n",
      "  (0, 60634)\t1\n",
      "  (0, 61965)\t1\n",
      "  (0, 62555)\t1\n",
      "  (0, 63840)\t1\n",
      "  (0, 66257)\t1\n",
      "  (0, 66693)\t1\n",
      "  (0, 66959)\t1\n",
      "  (0, 70846)\t1\n",
      "  (0, 71804)\t1\n",
      "  (0, 71958)\t1\n",
      "  (0, 72275)\t2\n",
      "  (0, 73332)\t1\n",
      "  (0, 73820)\t1\n"
     ]
    }
   ],
   "source": [
    "# second sentence\n",
    "print(dtm[1:2])"
   ]
  },
  {
   "cell_type": "markdown",
   "id": "512b1b69",
   "metadata": {},
   "source": [
    "### Building a Model"
   ]
  },
  {
   "cell_type": "markdown",
   "id": "c3ff60e9",
   "metadata": {},
   "source": [
    "For this assignment, we will be using the Naive Bayes classifier algorithm as our model. In this model we will be specifically using the multinominal Naive Bayes algorithm to make predictions on the sentiments. We choose this type of Naive Bayes over others such as the Gaussian approach because the multinomial technique is known to work best with categorical or discrete variables whereas the Gaussian approach is used for continuous variables. This classifier works with probabilities and treats all variables as being independent. The variables in our data are the different words and they will be treated as being independent. This means the probability of a single word is not dependent on the occurence of any other word. As we have seen previously each word in our data will be given an integer as its ID. This means every sentence will be a collection of integers followed by the final class of the sentence being 1 for positive and 0 for negative. A simple illustration of a sentence consisting of the string \"This movie is good\" can be integers such as 0, 1, 2, 3 and the sentiment will be 1 for positive. These integers are then used in the formula to find the corresponding probabilities along with the final sentiment class. With over 10,000 reviews, we may find that the word \"good\" has a high probability of being classified as a positive sentiment. This is found using conditional probabilities. The Bayes' Theorem is as follows:\n",
    "\n",
    "$$\n",
    "P(A \\vert B) = \\frac{P(B \\vert A) P(A)}{P(B)}\n",
    "$$\n",
    "\n"
   ]
  },
  {
   "cell_type": "markdown",
   "id": "72d94983",
   "metadata": {},
   "source": [
    "The | symbol in the equation means \"given\" so we are solving the Probability(A given B has already occured). In our example we would multiply the probability that the sentiment is a 1 times the probability of each word in the sentence given the sentiment is a 1. The probability of B | A is the probability of the word given the sentiment. In a text classifyer the P(B) will be each of our features which are the independent words so we will have $x_{1}, x_{2}, ... x_{n}$ for each word in our phrases"
   ]
  },
  {
   "cell_type": "markdown",
   "id": "0afdf3a5",
   "metadata": {},
   "source": [
    "This means $x_{0}$ can be a word such as \"good\" and we will find the probability of \"good\" given the probability that the sentiment is a 1. This probability is used on every sentence in our data, not just the sentence that we are looking at so we would look through all the sentences for the probability of \"good\" appearing | the sentiment was positive. As you can tell, this is a lot of arithmetic even though it is simple arithmetic, errors are likely to occur and many words are likely to be in a review, so the sklearn MultinominalNB comes in handy."
   ]
  },
  {
   "cell_type": "markdown",
   "id": "13a5acc9",
   "metadata": {},
   "source": [
    "The first step in model building will be to train our model. We will use a train test split to train our model and then test that model on the test set. The X_train will consist of 80% of our reviews that have been transformed into a document term matrix and the y_train will be the sentiment. The model will learn from the document term matrix about what classifies it as being either a good or bad sentiment. "
   ]
  },
  {
   "cell_type": "code",
   "execution_count": 42,
   "id": "66175d33",
   "metadata": {},
   "outputs": [],
   "source": [
    "# import library\n",
    "from sklearn.model_selection import train_test_split"
   ]
  },
  {
   "cell_type": "code",
   "execution_count": 43,
   "id": "351edf32",
   "metadata": {},
   "outputs": [],
   "source": [
    "# split our data for training and testing\n",
    "X_train, X_test, y_train, y_test = train_test_split(dtm, data['sentiment'], test_size = 0.2, random_state = 0)"
   ]
  },
  {
   "cell_type": "code",
   "execution_count": 44,
   "id": "b364cb28",
   "metadata": {},
   "outputs": [],
   "source": [
    "# import the Naive Bayes algorithm\n",
    "from sklearn.naive_bayes import MultinomialNB"
   ]
  },
  {
   "cell_type": "code",
   "execution_count": 45,
   "id": "f38093a1",
   "metadata": {},
   "outputs": [],
   "source": [
    "# create a multinomial Naive Bayes object\n",
    "MNB = MultinomialNB()\n",
    "\n",
    "# fit to our data\n",
    "model = MNB.fit(X_train, y_train)"
   ]
  },
  {
   "cell_type": "code",
   "execution_count": 46,
   "id": "8b495a61",
   "metadata": {},
   "outputs": [],
   "source": [
    "# Evaluation and Predictions\n",
    "from sklearn.metrics import accuracy_score, confusion_matrix, ConfusionMatrixDisplay, RocCurveDisplay, roc_curve, roc_auc_score\n",
    "from sklearn.metrics import confusion_matrix\n"
   ]
  },
  {
   "cell_type": "code",
   "execution_count": 47,
   "id": "449c3823",
   "metadata": {},
   "outputs": [
    {
     "name": "stdout",
     "output_type": "stream",
     "text": [
      "0.8682\n"
     ]
    }
   ],
   "source": [
    "# make predictions\n",
    "predicted = MNB.predict(X_test)\n",
    "\n",
    "# print the accuracy\n",
    "print(accuracy_score(y_test, predicted))\n"
   ]
  },
  {
   "cell_type": "code",
   "execution_count": 48,
   "id": "6b5b82a7",
   "metadata": {},
   "outputs": [
    {
     "data": {
      "image/png": "[encoded data removed]",
      "text/plain": [
       "<Figure size 640x480 with 2 Axes>"
      ]
     },
     "metadata": {},
     "output_type": "display_data"
    }
   ],
   "source": [
    "# confusion matrix\n",
    "confusion_matrix = confusion_matrix(y_test, predicted)\n",
    "cm_display = ConfusionMatrixDisplay(confusion_matrix).plot()"
   ]
  },
  {
   "cell_type": "markdown",
   "id": "12d9b825",
   "metadata": {},
   "source": [
    "The results of our model are promising. Without any optimization we have achieved an accuracy score of 0.87. Since our data is balanced, this is a trustworthy metric. If our model was imbalanced we would not trust this metric as much. The f1 score of 0.86 tells us that we have a balanced trade off between precision and recall. Precision is useful for reducing the false positives. This tells us, \"out of all the samples that have tested positive in our model, did we do well?\" Recall is a measure where we look to reduce the false negatives. It takes all positive cases in the data and measures how we did with actual positives and false negatives. "
   ]
  },
  {
   "cell_type": "code",
   "execution_count": 49,
   "id": "8899170c",
   "metadata": {},
   "outputs": [
    {
     "name": "stdout",
     "output_type": "stream",
     "text": [
      "The f1 score for our first model is: 0.863\n",
      "The precision score for our first model is: 0.880\n",
      "The recall score for our first model is: 0.847\n"
     ]
    }
   ],
   "source": [
    "# f1 score  \n",
    "from sklearn.metrics import f1_score\n",
    "f1_score = f1_score(y_test, predicted)\n",
    "print(f'The f1 score for our first model is: {f1_score:.3f}')\n",
    "\n",
    "# precision\n",
    "from sklearn.metrics import precision_score\n",
    "precision_score = precision_score(y_test, predicted)\n",
    "print(f'The precision score for our first model is: {precision_score:.3f}')\n",
    "\n",
    "# recall \n",
    "from sklearn.metrics import recall_score\n",
    "recall_score = recall_score(y_test, predicted)\n",
    "print(f'The recall score for our first model is: {recall_score:.3f}')\n",
    "\n"
   ]
  },
  {
   "cell_type": "code",
   "execution_count": 50,
   "id": "623d2a17",
   "metadata": {},
   "outputs": [
    {
     "name": "stdout",
     "output_type": "stream",
     "text": [
      "              precision    recall  f1-score   support\n",
      "\n",
      "           0       0.86      0.89      0.87      2548\n",
      "           1       0.88      0.85      0.86      2452\n",
      "\n",
      "    accuracy                           0.87      5000\n",
      "   macro avg       0.87      0.87      0.87      5000\n",
      "weighted avg       0.87      0.87      0.87      5000\n",
      "\n"
     ]
    }
   ],
   "source": [
    "# classification report\n",
    "from sklearn.metrics import classification_report\n",
    "\n",
    "# show results\n",
    "print(classification_report(y_test, predicted))"
   ]
  },
  {
   "cell_type": "markdown",
   "id": "0aac7114",
   "metadata": {},
   "source": [
    "The **ROC curve** is a popular metric when working with binary classifiers like we are in this assignment. The ROC curve is a plot of the true positive rate against the false positive rate. This can also be known as plotting sensitivity vs. 1 - specificity. A random classifier would have a diagonal line through the middle of the graph and the further we are towards the top left corner, the better the results. "
   ]
  },
  {
   "cell_type": "code",
   "execution_count": 51,
   "id": "b6dac513",
   "metadata": {},
   "outputs": [
    {
     "data": {
      "image/png": "[encoded data removed]",
      "text/plain": [
       "<Figure size 640x480 with 1 Axes>"
      ]
     },
     "metadata": {},
     "output_type": "display_data"
    }
   ],
   "source": [
    "# ROC Curve and AUC Score\n",
    "fpr, tpr, _ = roc_curve(y_test, predicted)\n",
    "\n",
    "# AUC \n",
    "auc = roc_auc_score(y_test, predicted)\n",
    "\n",
    "# display results\n",
    "roc_display = RocCurveDisplay(fpr = fpr, tpr = tpr, roc_auc = auc).plot()"
   ]
  },
  {
   "cell_type": "markdown",
   "id": "e9beffb8",
   "metadata": {},
   "source": [
    "We can use our model to make predictions on reviews that have not been made before. To do this, we pass our model followed by .predict(). In the predict function we will need to pass through the review but make sure that we transform it into a dtm first so we will use our_count_vect() and pass the new review in to it. We begin by making a prediction on a sentence that should be received positively and follow it up with a sentence that should be classified as a negative sentence. As a reminder, 1 = positive and 0 = negative."
   ]
  },
  {
   "cell_type": "code",
   "execution_count": 52,
   "id": "7c30edc9",
   "metadata": {},
   "outputs": [
    {
     "data": {
      "text/plain": [
       "array([1])"
      ]
     },
     "execution_count": 52,
     "metadata": {},
     "output_type": "execute_result"
    }
   ],
   "source": [
    "# make predictions of a new sentiment that should be positive\n",
    "model.predict(our_count_vect.transform(['I love this movie']))"
   ]
  },
  {
   "cell_type": "code",
   "execution_count": 53,
   "id": "99634e6c",
   "metadata": {},
   "outputs": [
    {
     "data": {
      "text/plain": [
       "array([0])"
      ]
     },
     "execution_count": 53,
     "metadata": {},
     "output_type": "execute_result"
    }
   ],
   "source": [
    "# make prediction of a new sentiment that should be negative\n",
    "model.predict(our_count_vect.transform(['I hate this movie']))"
   ]
  },
  {
   "cell_type": "markdown",
   "id": "bad4c9ab",
   "metadata": {},
   "source": [
    "### Trying TFIDF and Other Methods for a Better Model"
   ]
  },
  {
   "cell_type": "markdown",
   "id": "119f9b0c",
   "metadata": {},
   "source": [
    "TfidfTransformer will transform our words and assign a weight to each word based on importance. The higher the value, the more important the word. For movie reviews we would assume that words like \"movie\" and \"film\" are present in many of the reviews whether they are good or bad sentiments. The tfidf assigns weights to words and words like \"movie\" and \"film\" would have a very low weight because they will not be adding much information as to what class they belong in when that word is present. In this sentence we see the word that was given the integer value of 6999 has high significance. We can see what this integer is in a word form. This word turns out to be 'bestest' which we would think should be used highly in a positive sentiment so we can check if this was indeed a positive sentiment. (1 = positive)"
   ]
  },
  {
   "cell_type": "code",
   "execution_count": 54,
   "id": "ad3bd6d1",
   "metadata": {},
   "outputs": [],
   "source": [
    "# import the TfidfTransformer from sklearn.feature_extraction.text\n",
    "from sklearn.feature_extraction.text import TfidfTransformer"
   ]
  },
  {
   "cell_type": "markdown",
   "id": "892c0571",
   "metadata": {},
   "source": [
    "Here we create a variable tfidf_transformer and create the transformer. In the same line we also fit and transform our data by passing through the variable dtm. The variable dtm is our CountVectorizer after we removed the stop words, tokenized the data and fit_transformed the data. The data that was transformed was the 'review' column of our data that we stored as a dataframe called df. "
   ]
  },
  {
   "cell_type": "code",
   "execution_count": 55,
   "id": "f7d643d5",
   "metadata": {},
   "outputs": [
    {
     "name": "stdout",
     "output_type": "stream",
     "text": [
      "<Compressed Sparse Row sparse matrix of dtype 'float64'\n",
      "\twith 145 stored elements and shape (1, 74516)>\n",
      "  Coords\tValues\n",
      "  (0, 439)\t0.03786266121055409\n",
      "  (0, 1661)\t0.03705461472895983\n",
      "  (0, 4855)\t0.03568469200681955\n",
      "  (0, 5220)\t0.027081399509298942\n",
      "  (0, 5469)\t0.05951780847239651\n",
      "  (0, 6999)\t0.08138745504845976\n",
      "  (0, 7353)\t0.056178590803362655\n",
      "  (0, 7434)\t0.026602028203416065\n",
      "  (0, 8461)\t0.030901312893232377\n",
      "  (0, 9441)\t0.04738433008710627\n",
      "  (0, 9608)\t0.036783680873822965\n",
      "  (0, 10214)\t0.030762666092307676\n",
      "  (0, 10530)\t0.035095710219790154\n",
      "  (0, 11319)\t0.037123785372486846\n",
      "  (0, 11556)\t0.02144576414508846\n",
      "  (0, 12394)\t0.03279477747557416\n",
      "  (0, 12873)\t0.0538741109788088\n",
      "  (0, 13728)\t0.04186189309148528\n",
      "  (0, 14220)\t0.07576189121362456\n",
      "  (0, 14601)\t0.039849955213600276\n",
      "  (0, 14634)\t0.07148616110791199\n",
      "  (0, 15090)\t0.02789332056271856\n",
      "  (0, 15486)\t0.04454302824792021\n",
      "  (0, 16355)\t0.039785414332347536\n",
      "  (0, 16681)\t0.031147022063853554\n",
      "  :\t:\n",
      "  (0, 63538)\t0.033953568328399644\n",
      "  (0, 63586)\t0.03181098039058949\n",
      "  (0, 63685)\t0.03814655566629612\n",
      "  (0, 63804)\t0.04155636241967119\n",
      "  (0, 64292)\t0.07084250936919527\n",
      "  (0, 65119)\t0.0392415572138494\n",
      "  (0, 66257)\t0.02534054759061035\n",
      "  (0, 66259)\t0.02050140487366562\n",
      "  (0, 66350)\t0.02555757249350557\n",
      "  (0, 68078)\t0.02872124273117418\n",
      "  (0, 68095)\t0.030778543449272413\n",
      "  (0, 68128)\t0.030117516719120795\n",
      "  (0, 68340)\t0.043140699102391974\n",
      "  (0, 69546)\t0.03766225663231751\n",
      "  (0, 70245)\t0.03518639242628745\n",
      "  (0, 70629)\t0.04615439698863951\n",
      "  (0, 71283)\t0.045789298693138254\n",
      "  (0, 71794)\t0.02505817807265755\n",
      "  (0, 71797)\t0.032700247602711056\n",
      "  (0, 71802)\t0.03327747217792223\n",
      "  (0, 71958)\t0.057426048047178165\n",
      "  (0, 71964)\t0.023352554753489907\n",
      "  (0, 72599)\t0.05940899260714671\n",
      "  (0, 73069)\t0.07247114732483285\n",
      "  (0, 73306)\t0.03660795605419922\n"
     ]
    }
   ],
   "source": [
    "# fit and transform our data \n",
    "tfidf_transformer = TfidfTransformer().fit_transform(dtm)\n",
    "\n",
    "print(tfidf_transformer[0:1])"
   ]
  },
  {
   "cell_type": "markdown",
   "id": "bb586729",
   "metadata": {},
   "source": [
    "This brings us to our second question that we were trying to solve when starting this project. We would like to be able to extract the word that is of high importance to see if it makes sense from a common knowledge standpoint. We would like to see a positive word associated with a positive sentiment which will also be a way to check that our model is performing correctly. To find out which word belongs to the integer value given in the CountVectorizer/TfidfTransformer, we use the count_vect variable which is the CountVectorizer that removes stop words and tokenizes the words before we fit and transform our column of interest. We then pass .get_feature_names_out() followed by the number of interest to return its original word."
   ]
  },
  {
   "cell_type": "code",
   "execution_count": 56,
   "id": "b2cf595f",
   "metadata": {},
   "outputs": [
    {
     "data": {
      "text/plain": [
       "'bestest'"
      ]
     },
     "execution_count": 56,
     "metadata": {},
     "output_type": "execute_result"
    }
   ],
   "source": [
    "# print the value to an important key in the sentence\n",
    "count_vect.get_feature_names_out()[6999]"
   ]
  },
  {
   "cell_type": "markdown",
   "id": "6cafa352",
   "metadata": {},
   "source": [
    "To see what sentiment this sentence had we can use iloc['row number']['sentiment column'] to return the sentiment that contained this sentence. "
   ]
  },
  {
   "cell_type": "code",
   "execution_count": 57,
   "id": "9f25bdf8",
   "metadata": {},
   "outputs": [
    {
     "data": {
      "text/plain": [
       "id                                                         5814_8\n",
       "sentiment                                                       1\n",
       "review          With all this stuff going down at the moment w...\n",
       "preprocessed    [stuff, going, moment, mj, ive, started, liste...\n",
       "Name: 0, dtype: object"
      ]
     },
     "execution_count": 57,
     "metadata": {},
     "output_type": "execute_result"
    }
   ],
   "source": [
    "# 'bestest' sounds like a word that would indicate a positive sentiment. Check it.\n",
    "data.iloc[0]"
   ]
  },
  {
   "cell_type": "markdown",
   "id": "56c52739",
   "metadata": {},
   "source": [
    "### Using Tfidf in Our Model"
   ]
  },
  {
   "cell_type": "markdown",
   "id": "09de6d27",
   "metadata": {},
   "source": [
    "To use Tfidf in our model we will need to split the data again this time using the tfidf_transformer as the predictor and the sentiment from our dataframe as the target column. To fit the data we can use the MNB model that we created previously and pass through our new X_train, y_train."
   ]
  },
  {
   "cell_type": "code",
   "execution_count": 58,
   "id": "bee5e5e8",
   "metadata": {},
   "outputs": [],
   "source": [
    "# split the data using the Tfidf\n",
    "X_train_tfidf, X_test_tfidf, y_train_, y_test = train_test_split(tfidf_transformer, data['sentiment'], test_size = 0.2, random_state = 0)\n",
    "\n",
    "# fit the model to new splits\n",
    "model_tfidf = MNB.fit(X_train_tfidf, y_train)\n"
   ]
  },
  {
   "cell_type": "code",
   "execution_count": 59,
   "id": "f191ce77",
   "metadata": {},
   "outputs": [],
   "source": [
    "# make predictions\n",
    "predicted_tfidf = model_tfidf.predict(X_test_tfidf)"
   ]
  },
  {
   "cell_type": "code",
   "execution_count": 60,
   "id": "3d5e017b",
   "metadata": {},
   "outputs": [],
   "source": [
    "from sklearn import metrics\n",
    "# accuracy score\n",
    "score = metrics.accuracy_score(predicted_tfidf, y_test)"
   ]
  },
  {
   "cell_type": "markdown",
   "id": "7f654c7b",
   "metadata": {},
   "source": [
    "This performs very similarly to our model, but slightly better. Overall, both of these models are fairly accurate and can produce good results for us if we are to implement them. "
   ]
  },
  {
   "cell_type": "code",
   "execution_count": 61,
   "id": "4e43e1f7",
   "metadata": {},
   "outputs": [
    {
     "data": {
      "text/plain": [
       "87.44"
      ]
     },
     "execution_count": 61,
     "metadata": {},
     "output_type": "execute_result"
    }
   ],
   "source": [
    "# print our score\n",
    "score * 100"
   ]
  },
  {
   "cell_type": "code",
   "execution_count": 62,
   "id": "9fdf9992",
   "metadata": {},
   "outputs": [
    {
     "data": {
      "image/png": "[encoded data removed]",
      "text/plain": [
       "<Figure size 640x480 with 2 Axes>"
      ]
     },
     "metadata": {},
     "output_type": "display_data"
    }
   ],
   "source": [
    "# confusion matrix\n",
    "confusion_matrix = metrics.confusion_matrix(y_test, predicted)\n",
    "cm_display = ConfusionMatrixDisplay(confusion_matrix).plot()"
   ]
  },
  {
   "cell_type": "code",
   "execution_count": 63,
   "id": "dd514e35",
   "metadata": {},
   "outputs": [
    {
     "data": {
      "image/png": "[encoded data removed]",
      "text/plain": [
       "<Figure size 1200x500 with 4 Axes>"
      ]
     },
     "metadata": {},
     "output_type": "display_data"
    }
   ],
   "source": [
    "# plot both confusion matrices\n",
    "# plot set up - 1 row, 2 cols\n",
    "fig, axes = plt.subplots(1, 2, figsize=(12,5))\n",
    "ConfusionMatrixDisplay.from_estimator(model, X_test, y_test, ax=axes[0])\n",
    "axes[0].title.set_text('First Model')\n",
    "\n",
    "ConfusionMatrixDisplay.from_estimator(model_tfidf, X_test_tfidf, y_test, ax = axes[1])\n",
    "axes[1].title.set_text('Second Model - Using TF-IDF')\n",
    "\n",
    "plt.tight_layout()\n",
    "plt.show()"
   ]
  },
  {
   "cell_type": "code",
   "execution_count": 64,
   "id": "bc439d5c",
   "metadata": {},
   "outputs": [],
   "source": [
    "# Generate classification reports\n",
    "report1 = classification_report(y_test, predicted, output_dict=True)\n",
    "report2 = classification_report(y_test, predicted_tfidf, output_dict=True)\n",
    "\n",
    "# Convert classification reports to DataFrames\n",
    "report_df1 = pd.DataFrame(report1).transpose()\n",
    "report_df2 = pd.DataFrame(report2).transpose()\n"
   ]
  },
  {
   "cell_type": "code",
   "execution_count": 65,
   "id": "3af5e91f",
   "metadata": {},
   "outputs": [],
   "source": [
    "report_df1.drop(columns='support', inplace=True)\n",
    "report_df2.drop(columns='support', inplace=True)"
   ]
  },
  {
   "cell_type": "code",
   "execution_count": 66,
   "id": "20b1533c",
   "metadata": {},
   "outputs": [
    {
     "data": {
      "text/html": [
       "<div>\n",
       "<style scoped>\n",
       "    .dataframe tbody tr th:only-of-type {\n",
       "        vertical-align: middle;\n",
       "    }\n",
       "\n",
       "    .dataframe tbody tr th {\n",
       "        vertical-align: top;\n",
       "    }\n",
       "\n",
       "    .dataframe thead th {\n",
       "        text-align: right;\n",
       "    }\n",
       "</style>\n",
       "<table border=\"1\" class=\"dataframe\">\n",
       "  <thead>\n",
       "    <tr style=\"text-align: right;\">\n",
       "      <th></th>\n",
       "      <th>precision</th>\n",
       "      <th>recall</th>\n",
       "      <th>f1-score</th>\n",
       "      <th>precision_tfidf</th>\n",
       "      <th>recall_tfidf</th>\n",
       "      <th>f1-score_tfidf</th>\n",
       "    </tr>\n",
       "  </thead>\n",
       "  <tbody>\n",
       "    <tr>\n",
       "      <th>0</th>\n",
       "      <td>0.857901</td>\n",
       "      <td>0.888540</td>\n",
       "      <td>0.872952</td>\n",
       "      <td>0.876471</td>\n",
       "      <td>0.877159</td>\n",
       "      <td>0.876814</td>\n",
       "    </tr>\n",
       "    <tr>\n",
       "      <th>1</th>\n",
       "      <td>0.879712</td>\n",
       "      <td>0.847064</td>\n",
       "      <td>0.863079</td>\n",
       "      <td>0.872245</td>\n",
       "      <td>0.871533</td>\n",
       "      <td>0.871889</td>\n",
       "    </tr>\n",
       "    <tr>\n",
       "      <th>accuracy</th>\n",
       "      <td>0.868200</td>\n",
       "      <td>0.868200</td>\n",
       "      <td>0.868200</td>\n",
       "      <td>0.874400</td>\n",
       "      <td>0.874400</td>\n",
       "      <td>0.874400</td>\n",
       "    </tr>\n",
       "    <tr>\n",
       "      <th>macro avg</th>\n",
       "      <td>0.868806</td>\n",
       "      <td>0.867802</td>\n",
       "      <td>0.868015</td>\n",
       "      <td>0.874358</td>\n",
       "      <td>0.874346</td>\n",
       "      <td>0.874352</td>\n",
       "    </tr>\n",
       "    <tr>\n",
       "      <th>weighted avg</th>\n",
       "      <td>0.868597</td>\n",
       "      <td>0.868200</td>\n",
       "      <td>0.868110</td>\n",
       "      <td>0.874398</td>\n",
       "      <td>0.874400</td>\n",
       "      <td>0.874399</td>\n",
       "    </tr>\n",
       "  </tbody>\n",
       "</table>\n",
       "</div>"
      ],
      "text/plain": [
       "              precision    recall  ...  recall_tfidf  f1-score_tfidf\n",
       "0              0.857901  0.888540  ...      0.877159        0.876814\n",
       "1              0.879712  0.847064  ...      0.871533        0.871889\n",
       "accuracy       0.868200  0.868200  ...      0.874400        0.874400\n",
       "macro avg      0.868806  0.867802  ...      0.874346        0.874352\n",
       "weighted avg   0.868597  0.868200  ...      0.874400        0.874399\n",
       "\n",
       "[5 rows x 6 columns]"
      ]
     },
     "execution_count": 66,
     "metadata": {},
     "output_type": "execute_result"
    }
   ],
   "source": [
    "# rename columns so they can be distinguished\n",
    "report_df2.rename(columns={'precision': 'precision_tfidf', 'recall': 'recall_tfidf', 'f1-score': 'f1-score_tfidf'}, inplace=True)\n",
    "report_df1.rename(columns={0: 'Negative Sentiment', 1: 'Positive Sentiment'}, inplace=True)\n",
    "report_df2.rename(columns={0: 'Negative Sentiment', 1: 'Positive Sentiment'}, inplace=True)\n",
    "# concatenate the two DataFrames\n",
    "reports = pd.concat([report_df1, report_df2], axis=1)\n",
    "reports"
   ]
  },
  {
   "cell_type": "markdown",
   "id": "67a70591",
   "metadata": {},
   "source": [
    "### Cross-Validation"
   ]
  },
  {
   "cell_type": "markdown",
   "id": "bd734cb0",
   "metadata": {},
   "source": [
    "Before submitting our model for deployment we should cross validate it using kfolds. We will choose 10 folds to split up our data into training and testing. This ensures that the model is not learning specific information so that it will perform poorly when tested. The train test splits are done ten different times in this case and the results are fairly similar which means we can trust that our model will perform around the 86% accuracy rate that it got."
   ]
  },
  {
   "cell_type": "code",
   "execution_count": 67,
   "id": "1aabc572",
   "metadata": {},
   "outputs": [],
   "source": [
    "from sklearn.model_selection import KFold, cross_val_score "
   ]
  },
  {
   "cell_type": "code",
   "execution_count": 68,
   "id": "7c5ee4b1",
   "metadata": {},
   "outputs": [],
   "source": [
    "# cross-validation variable\n",
    "cv = KFold(n_splits=10, random_state=0, shuffle=True)"
   ]
  },
  {
   "cell_type": "code",
   "execution_count": 69,
   "id": "9bab508e",
   "metadata": {},
   "outputs": [],
   "source": [
    "scores = cross_val_score(model, dtm, df['sentiment'],\n",
    "                         cv=cv, n_jobs=-1)"
   ]
  },
  {
   "cell_type": "code",
   "execution_count": 70,
   "id": "10b27f0f",
   "metadata": {},
   "outputs": [
    {
     "data": {
      "text/plain": [
       "np.float64(0.858)"
      ]
     },
     "execution_count": 70,
     "metadata": {},
     "output_type": "execute_result"
    }
   ],
   "source": [
    "scores.mean()"
   ]
  },
  {
   "cell_type": "code",
   "execution_count": 71,
   "id": "c43571b1",
   "metadata": {},
   "outputs": [],
   "source": [
    "model_tfidf_scores = cross_val_score(model_tfidf, tfidf_transformer, data['sentiment'], cv=cv, n_jobs=-1)"
   ]
  },
  {
   "cell_type": "code",
   "execution_count": 72,
   "id": "71b9e987",
   "metadata": {},
   "outputs": [
    {
     "data": {
      "text/plain": [
       "array([0.878 , 0.8772, 0.8624, 0.8616, 0.8668, 0.8596, 0.862 , 0.8652,\n",
       "       0.8684, 0.8592])"
      ]
     },
     "execution_count": 72,
     "metadata": {},
     "output_type": "execute_result"
    }
   ],
   "source": [
    "model_tfidf_scores\n"
   ]
  },
  {
   "cell_type": "code",
   "execution_count": 73,
   "id": "75efc515",
   "metadata": {},
   "outputs": [
    {
     "data": {
      "text/plain": [
       "np.float64(0.8660400000000001)"
      ]
     },
     "execution_count": 73,
     "metadata": {},
     "output_type": "execute_result"
    }
   ],
   "source": [
    "model_tfidf_scores.mean()"
   ]
  },
  {
   "cell_type": "markdown",
   "id": "5837ee1d",
   "metadata": {},
   "source": [
    "#### Removing Numbers"
   ]
  },
  {
   "cell_type": "markdown",
   "id": "f1395bc3",
   "metadata": {},
   "source": [
    "Let's see if we can create our own **RegexpTokenizer** with a pattern that will remove all digits besides things like \"5 stars\" but remove all other digits. We will also make it so that the pattern includes all alphabetical tokens 2 or more characters in length."
   ]
  },
  {
   "cell_type": "code",
   "execution_count": 74,
   "id": "706f6937",
   "metadata": {},
   "outputs": [],
   "source": [
    "# create copy of the data\n",
    "data_copy = df.copy()"
   ]
  },
  {
   "cell_type": "code",
   "execution_count": 75,
   "id": "96b92932",
   "metadata": {},
   "outputs": [
    {
     "name": "stdout",
     "output_type": "stream",
     "text": [
      "Tokenized Text: ['gave', 'it', '5 out of 5', 'stars', 'and', 'in', 'watched', 'movies']\n"
     ]
    }
   ],
   "source": [
    "# Define the custom tokenizer pattern \n",
    "pattern = r'\\d+\\s*out\\s*of\\s*\\d+|\\d+\\s*stars?|[a-zA-Z]{2,}' \n",
    "# Initialize the RegexpTokenizer with the custom pattern \n",
    "custom_tokenizer = RegexpTokenizer(pattern) \n",
    "# Example text \n",
    "sample_text = \"I gave it 5 out of 5 stars and in 2020, I watched 50 movies.\" \n",
    "# Tokenize the text using the custom tokenizer \n",
    "tokens = custom_tokenizer.tokenize(sample_text) \n",
    "print(\"Tokenized Text:\", tokens)"
   ]
  },
  {
   "cell_type": "code",
   "execution_count": 86,
   "id": "53cdecd7",
   "metadata": {},
   "outputs": [
    {
     "name": "stderr",
     "output_type": "stream",
     "text": [
      "c:\\Users\\ryans\\Documents\\Machine Learning GCU\\Sentiment Analysis\\.venv\\lib\\site-packages\\sklearn\\feature_extraction\\text.py:517: UserWarning: The parameter 'token_pattern' will not be used since 'tokenizer' is not None'\n",
      "  warnings.warn(\n"
     ]
    },
    {
     "name": "stdout",
     "output_type": "stream",
     "text": [
      "[('1 stars', 10), ('10 out of 10', 11), ('10 out of 9', 12), ('10 star', 13), ('10 stars', 14), ('100 stars', 15), ('1000 star', 16), ('10star', 17), ('11 out of 10', 18), ('12 out of 10', 19)]\n"
     ]
    }
   ],
   "source": [
    "# create a CountVectorizer\n",
    "# create CountVectorizer using the stopwords and default tokenizer\n",
    "custom_count_vect = CountVectorizer(stop_words = 'english', tokenizer=custom_tokenizer.tokenize)\n",
    "\n",
    "# fit our data to the CountVectorizer\n",
    "our_count_vect = custom_count_vect.fit(data_copy['review'])\n",
    "\n",
    "# create a sliceable data type\n",
    "sorted_vocab = sorted(our_count_vect.vocabulary_.items(), key=lambda item:item[1])\n",
    "\n",
    "# view (very long) vocabulary dictionary\n",
    "print(sorted_vocab[10:20])"
   ]
  },
  {
   "cell_type": "code",
   "execution_count": 87,
   "id": "8cd1388b",
   "metadata": {},
   "outputs": [
    {
     "data": {
      "text/plain": [
       "72983"
      ]
     },
     "execution_count": 87,
     "metadata": {},
     "output_type": "execute_result"
    }
   ],
   "source": [
    "len(our_count_vect.vocabulary_)"
   ]
  },
  {
   "cell_type": "markdown",
   "id": "74cf3561",
   "metadata": {},
   "source": [
    "Now that we have the new tokenized words we will use the **TfidTransformer** again since it performed better than the model that did not use it."
   ]
  },
  {
   "cell_type": "code",
   "execution_count": 88,
   "id": "b57180e4",
   "metadata": {},
   "outputs": [],
   "source": [
    "# transform our data\n",
    "dtm_digits = our_count_vect.transform(data_copy['review'])\n",
    "\n",
    "# fit and transform our data \n",
    "tfidf_transformer_digits = TfidfTransformer().fit_transform(dtm_digits)"
   ]
  },
  {
   "cell_type": "code",
   "execution_count": 89,
   "id": "d2fb0f8f",
   "metadata": {},
   "outputs": [],
   "source": [
    "# split the data\n",
    "X_train_digits, X_test_digits, y_train_, y_test = train_test_split(tfidf_transformer_digits, data_copy['sentiment'], test_size = 0.2, random_state = 0)\n",
    "\n",
    "# create a multinomial Naive Bayes object\n",
    "MNB = MultinomialNB()\n",
    "# fit the model to new splits\n",
    "model_tfidf_digits = MNB.fit(X_train_digits, y_train)\n"
   ]
  },
  {
   "cell_type": "code",
   "execution_count": 92,
   "id": "671de020",
   "metadata": {},
   "outputs": [
    {
     "data": {
      "image/png": "[encoded data removed]",
      "text/plain": [
       "<Figure size 640x480 with 2 Axes>"
      ]
     },
     "metadata": {},
     "output_type": "display_data"
    }
   ],
   "source": [
    "# make predictions\n",
    "predicted_tfidf_digits = model_tfidf_digits.predict(X_test_digits)\n",
    "# confusion matrix\n",
    "ConfusionMatrixDisplay.from_estimator(model_tfidf_digits, X_test_digits, y_test)\n",
    "plt.show()"
   ]
  },
  {
   "cell_type": "code",
   "execution_count": 93,
   "id": "4aafe487",
   "metadata": {},
   "outputs": [
    {
     "name": "stdout",
     "output_type": "stream",
     "text": [
      "              precision    recall  f1-score   support\n",
      "\n",
      "           0       0.87      0.88      0.88      2548\n",
      "           1       0.87      0.87      0.87      2452\n",
      "\n",
      "    accuracy                           0.87      5000\n",
      "   macro avg       0.87      0.87      0.87      5000\n",
      "weighted avg       0.87      0.87      0.87      5000\n",
      "\n"
     ]
    }
   ],
   "source": [
    "print(classification_report(y_test, predicted_tfidf_digits))"
   ]
  },
  {
   "cell_type": "code",
   "execution_count": 94,
   "id": "cc052db1",
   "metadata": {},
   "outputs": [],
   "source": [
    "# Generate classification reports\n",
    "report3 = classification_report(y_test, predicted_tfidf_digits, output_dict=True)\n",
    "\n",
    "\n",
    "# Convert classification reports to DataFrames\n",
    "report_df3 = pd.DataFrame(report3).transpose()\n"
   ]
  },
  {
   "cell_type": "code",
   "execution_count": 95,
   "id": "0a4ff069",
   "metadata": {},
   "outputs": [],
   "source": [
    "report3_df = pd.DataFrame(report3).transpose()\n",
    "report3_df.drop(columns='support', inplace=True)\n",
    "report3_df.rename(columns={'precision': 'precision_digits', 'recall': 'recall_digits', 'f1-score': 'f1-score_digits'}, inplace=True)"
   ]
  },
  {
   "cell_type": "markdown",
   "id": "d80d4970",
   "metadata": {},
   "source": [
    "This model performs very similarly to the other models but uses less features without hindering performance so this would now be the best model."
   ]
  },
  {
   "cell_type": "code",
   "execution_count": 96,
   "id": "e396df1c",
   "metadata": {},
   "outputs": [
    {
     "data": {
      "text/html": [
       "<div>\n",
       "<style scoped>\n",
       "    .dataframe tbody tr th:only-of-type {\n",
       "        vertical-align: middle;\n",
       "    }\n",
       "\n",
       "    .dataframe tbody tr th {\n",
       "        vertical-align: top;\n",
       "    }\n",
       "\n",
       "    .dataframe thead th {\n",
       "        text-align: right;\n",
       "    }\n",
       "</style>\n",
       "<table border=\"1\" class=\"dataframe\">\n",
       "  <thead>\n",
       "    <tr style=\"text-align: right;\">\n",
       "      <th></th>\n",
       "      <th>precision</th>\n",
       "      <th>recall</th>\n",
       "      <th>f1-score</th>\n",
       "      <th>precision_tfidf</th>\n",
       "      <th>recall_tfidf</th>\n",
       "      <th>f1-score_tfidf</th>\n",
       "      <th>precision_digits</th>\n",
       "      <th>recall_digits</th>\n",
       "      <th>f1-score_digits</th>\n",
       "    </tr>\n",
       "  </thead>\n",
       "  <tbody>\n",
       "    <tr>\n",
       "      <th>0</th>\n",
       "      <td>0.857901</td>\n",
       "      <td>0.888540</td>\n",
       "      <td>0.872952</td>\n",
       "      <td>0.876471</td>\n",
       "      <td>0.877159</td>\n",
       "      <td>0.876814</td>\n",
       "      <td>0.874951</td>\n",
       "      <td>0.878728</td>\n",
       "      <td>0.876836</td>\n",
       "    </tr>\n",
       "    <tr>\n",
       "      <th>1</th>\n",
       "      <td>0.879712</td>\n",
       "      <td>0.847064</td>\n",
       "      <td>0.863079</td>\n",
       "      <td>0.872245</td>\n",
       "      <td>0.871533</td>\n",
       "      <td>0.871889</td>\n",
       "      <td>0.873413</td>\n",
       "      <td>0.869494</td>\n",
       "      <td>0.871449</td>\n",
       "    </tr>\n",
       "    <tr>\n",
       "      <th>accuracy</th>\n",
       "      <td>0.868200</td>\n",
       "      <td>0.868200</td>\n",
       "      <td>0.868200</td>\n",
       "      <td>0.874400</td>\n",
       "      <td>0.874400</td>\n",
       "      <td>0.874400</td>\n",
       "      <td>0.874200</td>\n",
       "      <td>0.874200</td>\n",
       "      <td>0.874200</td>\n",
       "    </tr>\n",
       "    <tr>\n",
       "      <th>macro avg</th>\n",
       "      <td>0.868806</td>\n",
       "      <td>0.867802</td>\n",
       "      <td>0.868015</td>\n",
       "      <td>0.874358</td>\n",
       "      <td>0.874346</td>\n",
       "      <td>0.874352</td>\n",
       "      <td>0.874182</td>\n",
       "      <td>0.874111</td>\n",
       "      <td>0.874142</td>\n",
       "    </tr>\n",
       "    <tr>\n",
       "      <th>weighted avg</th>\n",
       "      <td>0.868597</td>\n",
       "      <td>0.868200</td>\n",
       "      <td>0.868110</td>\n",
       "      <td>0.874398</td>\n",
       "      <td>0.874400</td>\n",
       "      <td>0.874399</td>\n",
       "      <td>0.874197</td>\n",
       "      <td>0.874200</td>\n",
       "      <td>0.874194</td>\n",
       "    </tr>\n",
       "  </tbody>\n",
       "</table>\n",
       "</div>"
      ],
      "text/plain": [
       "              precision    recall  ...  recall_digits  f1-score_digits\n",
       "0              0.857901  0.888540  ...       0.878728         0.876836\n",
       "1              0.879712  0.847064  ...       0.869494         0.871449\n",
       "accuracy       0.868200  0.868200  ...       0.874200         0.874200\n",
       "macro avg      0.868806  0.867802  ...       0.874111         0.874142\n",
       "weighted avg   0.868597  0.868200  ...       0.874200         0.874194\n",
       "\n",
       "[5 rows x 9 columns]"
      ]
     },
     "execution_count": 96,
     "metadata": {},
     "output_type": "execute_result"
    }
   ],
   "source": [
    "reports = pd.concat([reports, report3_df], axis=1)\n",
    "reports"
   ]
  },
  {
   "cell_type": "markdown",
   "id": "51a71179",
   "metadata": {},
   "source": [
    "#### Other Algorithms We Can Use\n",
    "+ Logistic Regression\n",
    "+ Support Vector Machine - would be too slow\n",
    "+ Gradient Boosted Models - XGBoost/LightGBM\n",
    "+ Random Forest Model"
   ]
  },
  {
   "cell_type": "markdown",
   "id": "651079ec",
   "metadata": {},
   "source": [
    "##### Logistic Regression Model"
   ]
  },
  {
   "cell_type": "code",
   "execution_count": 110,
   "id": "affa6d50",
   "metadata": {},
   "outputs": [
    {
     "data": {
      "image/png": "[encoded data removed]",
      "text/plain": [
       "<Figure size 640x480 with 2 Axes>"
      ]
     },
     "metadata": {},
     "output_type": "display_data"
    }
   ],
   "source": [
    "from sklearn.linear_model import LogisticRegression\n",
    "\n",
    "# create a logistic regression object\n",
    "log_reg = LogisticRegression()\n",
    "# fit the model to new splits\n",
    "model_log_reg = log_reg.fit(X_train_digits, y_train)\n",
    "# make predictions\n",
    "predicted_log_reg = model_log_reg.predict(X_test_digits)\n",
    "# confusion matrix\n",
    "fig, ax = plt.subplots()\n",
    "ConfusionMatrixDisplay.from_estimator(model_log_reg, X_test_digits, y_test, ax=ax)\n",
    "ax.set_title('**Logistic Regression Model**')\n",
    "plt.show()"
   ]
  },
  {
   "cell_type": "code",
   "execution_count": 98,
   "id": "01a236d6",
   "metadata": {},
   "outputs": [
    {
     "name": "stdout",
     "output_type": "stream",
     "text": [
      "              precision    recall  f1-score   support\n",
      "\n",
      "           0       0.91      0.88      0.89      2548\n",
      "           1       0.88      0.91      0.89      2452\n",
      "\n",
      "    accuracy                           0.89      5000\n",
      "   macro avg       0.89      0.89      0.89      5000\n",
      "weighted avg       0.89      0.89      0.89      5000\n",
      "\n"
     ]
    }
   ],
   "source": [
    "# classification report\n",
    "print(classification_report(y_test, predicted_log_reg))"
   ]
  },
  {
   "cell_type": "markdown",
   "id": "baeecdf6",
   "metadata": {},
   "source": [
    "##### Random Forest Model"
   ]
  },
  {
   "cell_type": "code",
   "execution_count": 99,
   "id": "0cad100b",
   "metadata": {},
   "outputs": [],
   "source": [
    "from sklearn.ensemble import RandomForestClassifier\n",
    "\n",
    "# create a random forest object\n",
    "rf = RandomForestClassifier()\n",
    "# fit the model to new splits\n",
    "model_rf = rf.fit(X_train_digits, y_train)\n",
    "# make predictions\n",
    "predicted_rf = model_rf.predict(X_test_digits)"
   ]
  },
  {
   "cell_type": "code",
   "execution_count": 109,
   "id": "d3f481dd",
   "metadata": {},
   "outputs": [
    {
     "data": {
      "text/plain": [
       "Text(0.5, 1.0, '**Random Forest Model**')"
      ]
     },
     "execution_count": 109,
     "metadata": {},
     "output_type": "execute_result"
    },
    {
     "data": {
      "image/png": "[encoded data removed]",
      "text/plain": [
       "<Figure size 640x480 with 2 Axes>"
      ]
     },
     "metadata": {},
     "output_type": "display_data"
    }
   ],
   "source": [
    "# confusion matrix\n",
    "fig, ax = plt.subplots()\n",
    "ConfusionMatrixDisplay.from_estimator(model_rf, X_test_digits, y_test, ax=ax)\n",
    "ax.set_title('**Random Forest Model**')"
   ]
  },
  {
   "cell_type": "code",
   "execution_count": 104,
   "id": "2f1172aa",
   "metadata": {},
   "outputs": [
    {
     "name": "stdout",
     "output_type": "stream",
     "text": [
      "              precision    recall  f1-score   support\n",
      "\n",
      "           0       0.86      0.85      0.86      2548\n",
      "           1       0.85      0.86      0.85      2452\n",
      "\n",
      "    accuracy                           0.85      5000\n",
      "   macro avg       0.85      0.85      0.85      5000\n",
      "weighted avg       0.85      0.85      0.85      5000\n",
      "\n"
     ]
    }
   ],
   "source": [
    "# classification report\n",
    "print(classification_report(y_test, predicted_rf))\n",
    "\n"
   ]
  },
  {
   "cell_type": "code",
   "execution_count": 112,
   "id": "ea27ac51",
   "metadata": {},
   "outputs": [
    {
     "name": "stderr",
     "output_type": "stream",
     "text": [
      "c:\\Users\\ryans\\Documents\\Machine Learning GCU\\Sentiment Analysis\\.venv\\lib\\site-packages\\sklearn\\utils\\deprecation.py:151: FutureWarning: 'force_all_finite' was renamed to 'ensure_all_finite' in 1.6 and will be removed in 1.8.\n",
      "  warnings.warn(\n"
     ]
    },
    {
     "name": "stdout",
     "output_type": "stream",
     "text": [
      "[LightGBM] [Info] Number of positive: 10048, number of negative: 9952\n",
      "[LightGBM] [Info] Auto-choosing row-wise multi-threading, the overhead of testing was 0.715485 seconds.\n",
      "You can set `force_row_wise=true` to remove the overhead.\n",
      "And if memory is not enough, you can set `force_col_wise=true`.\n",
      "[LightGBM] [Info] Total Bins 420144\n",
      "[LightGBM] [Info] Number of data points in the train set: 20000, number of used features: 10104\n",
      "[LightGBM] [Info] [binary:BoostFromScore]: pavg=0.502400 -> initscore=0.009600\n",
      "[LightGBM] [Info] Start training from score 0.009600\n"
     ]
    },
    {
     "name": "stderr",
     "output_type": "stream",
     "text": [
      "c:\\Users\\ryans\\Documents\\Machine Learning GCU\\Sentiment Analysis\\.venv\\lib\\site-packages\\sklearn\\utils\\deprecation.py:151: FutureWarning: 'force_all_finite' was renamed to 'ensure_all_finite' in 1.6 and will be removed in 1.8.\n",
      "  warnings.warn(\n",
      "c:\\Users\\ryans\\Documents\\Machine Learning GCU\\Sentiment Analysis\\.venv\\lib\\site-packages\\sklearn\\utils\\deprecation.py:151: FutureWarning: 'force_all_finite' was renamed to 'ensure_all_finite' in 1.6 and will be removed in 1.8.\n",
      "  warnings.warn(\n"
     ]
    },
    {
     "data": {
      "image/png": "[encoded data removed]",
      "text/plain": [
       "<Figure size 640x480 with 2 Axes>"
      ]
     },
     "metadata": {},
     "output_type": "display_data"
    }
   ],
   "source": [
    "import lightgbm as lgb\n",
    "# create a xgboost object\n",
    "lgb_model = lgb.LGBMClassifier()\n",
    "# fit the model to new splits\n",
    "model_lgb = lgb_model.fit(X_train_digits, y_train)\n",
    "# make predictions\n",
    "predicted_lgb = model_lgb.predict(X_test_digits)\n",
    "# confusion matrix\n",
    "fig, ax = plt.subplots()    \n",
    "ConfusionMatrixDisplay.from_estimator(model_lgb, X_test_digits, y_test, ax=ax)\n",
    "ax.set_title('**LGBM Model**')\n",
    "plt.show()"
   ]
  },
  {
   "cell_type": "code",
   "execution_count": 113,
   "id": "d7b94020",
   "metadata": {},
   "outputs": [
    {
     "name": "stdout",
     "output_type": "stream",
     "text": [
      "              precision    recall  f1-score   support\n",
      "\n",
      "           0       0.88      0.84      0.86      2548\n",
      "           1       0.84      0.88      0.86      2452\n",
      "\n",
      "    accuracy                           0.86      5000\n",
      "   macro avg       0.86      0.86      0.86      5000\n",
      "weighted avg       0.86      0.86      0.86      5000\n",
      "\n"
     ]
    }
   ],
   "source": [
    "# classification report\n",
    "print(classification_report(y_test, predicted_lgb))"
   ]
  },
  {
   "cell_type": "markdown",
   "id": "cb97445c",
   "metadata": {},
   "source": [
    "In practice we would optimize these models further using hyperparameter tuning."
   ]
  },
  {
   "cell_type": "markdown",
   "id": "72a8fc88",
   "metadata": {},
   "source": [
    "#### References"
   ]
  },
  {
   "cell_type": "markdown",
   "id": "cfd1bb84",
   "metadata": {},
   "source": [
    "Grus, J. (2015). Data Science From Scratch. O’Reilly Media, Inc.\n",
    "\n",
    "Harrington, P. (2012). Machine Learning in Action. Manning Publications Co.\n",
    "\n",
    "Patel, D. (2019). Machine Learning Tutorial Python 12 - K Fold Cross Validation[Video]. https://www.youtube.com/watch?v=gJo0uNL-5Qw&t=2s\n",
    "\n",
    "Latrose, D., Latrose, C. (2015). Data Mining and Predictive Analysis. John Wiley & Sons"
   ]
  },
  {
   "cell_type": "code",
   "execution_count": null,
   "id": "935eb9d3",
   "metadata": {},
   "outputs": [],
   "source": []
  }
 ],
 "metadata": {
  "kernelspec": {
   "display_name": ".venv",
   "language": "python",
   "name": "python3"
  },
  "language_info": {
   "codemirror_mode": {
    "name": "ipython",
    "version": 3
   },
   "file_extension": ".py",
   "mimetype": "text/x-python",
   "name": "python",
   "nbconvert_exporter": "python",
   "pygments_lexer": "ipython3",
   "version": "3.10.9"
  }
 },
 "nbformat": 4,
 "nbformat_minor": 5
}
